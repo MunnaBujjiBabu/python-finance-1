{
 "cells": [
  {
   "cell_type": "markdown",
   "metadata": {},
   "source": [
    "# 1. Introduction to Python\n",
    "## Abdullah Karasan"
   ]
  },
  {
   "cell_type": "markdown",
   "metadata": {},
   "source": [
    "Anyone who wants to deal with data science must have a programming language in the toolbox. It could be R, Java, Scala, Python or any other language. However, if you're searching for a new career in data science, you need to consider the adoption level of a programming language in this world. As a programming language developed by a Dutch programmer named `Guido Van Rossum`, Python is the king of the data science arena as being the most used language in this area."
   ]
  },
  {
   "cell_type": "markdown",
   "metadata": {},
   "source": [
    "In this lesson, we dig into the Python programming language via following topics:\n",
    "\n",
    "* Condition Statements\n",
    "* Loops\n",
    "* Function and\n",
    "* Main Python Libraries"
   ]
  },
  {
   "cell_type": "markdown",
   "metadata": {},
   "source": [
    "## 1.1. Conditional Statements"
   ]
  },
  {
   "cell_type": "markdown",
   "metadata": {},
   "source": [
    "In the first part of this lesson, we will learn how to code conditional statements in Python. Conditional statements are decision making processes that enable programs to contain statements that may or may not be executed when the program runs. We use three terms to specify conditional expressions in Python:\n",
    "\n"
   ]
  },
  {
   "cell_type": "markdown",
   "metadata": {},
   "source": [
    "* if\n",
    "* elif\n",
    "* else"
   ]
  },
  {
   "cell_type": "markdown",
   "metadata": {},
   "source": [
    "`if` statement can be used alone or any mixed type with others. But without if, others cannot be used."
   ]
  },
  {
   "cell_type": "markdown",
   "metadata": {},
   "source": [
    "### 1.1.1. IF STATEMENT\n"
   ]
  },
  {
   "cell_type": "markdown",
   "metadata": {},
   "source": [
    "Conditional statements are one of the structures we use most. `if` statement selects actions to perform and we make a decision using if statements. So, it includes a condition and one or more statements that form the body of the if statement. Python runs the body of code only when if statement is true. If the condition is false, then the body of the statement is skipped."
   ]
  },
  {
   "cell_type": "markdown",
   "metadata": {},
   "source": [
    "The relation operators are:\n",
    "\n",
    "* Less than (<)\n",
    "* Less than or equal to (<=)\n",
    "* Greater than (>)\n",
    "* Greater than or equal to (>=)\n",
    "* Equal to (==)\n",
    "* Not equal to (!=)"
   ]
  },
  {
   "cell_type": "markdown",
   "metadata": {},
   "source": [
    "In summary, if statements have two parts: \"condition\" and \"action to take\". The if statement must be followed by a colon (:) and the action to be taken must be indented. All equal level statements in a cell must have the same indentation. The general form of the if statement takes the following form"
   ]
  },
  {
   "cell_type": "markdown",
   "metadata": {},
   "source": [
    "    if <test>: # if test\n",
    "        <statements> # Associated block for if (indented)"
   ]
  },
  {
   "cell_type": "markdown",
   "metadata": {},
   "source": [
    "Let us make some practice."
   ]
  },
  {
   "cell_type": "code",
   "execution_count": 9,
   "metadata": {},
   "outputs": [
    {
     "name": "stdout",
     "output_type": "stream",
     "text": [
      "Number is greater than 5\n"
     ]
    }
   ],
   "source": [
    "num = 6\n",
    "if num > 5: # Condition\n",
    "    print (\"Number is greater than 5\") # action to take"
   ]
  },
  {
   "cell_type": "code",
   "execution_count": 10,
   "metadata": {},
   "outputs": [
    {
     "name": "stdout",
     "output_type": "stream",
     "text": [
      "A number of your choice:20\n",
      "The number is greater than 10\n"
     ]
    }
   ],
   "source": [
    "num=eval(input('A number of your choice:'))\n",
    "if num>10:\n",
    "    print('The number is greater than 10')"
   ]
  },
  {
   "cell_type": "markdown",
   "metadata": {},
   "source": [
    "### 1.1.2. If Else Statement"
   ]
  },
  {
   "cell_type": "markdown",
   "metadata": {},
   "source": [
    "The condition of the `if` statement is designed so that one of the two actions executes. If the condition is not met, we can use `else` to do something for the remaining cases. It is possible to visualize the logic of `if-else` statement in Python:"
   ]
  },
  {
   "cell_type": "code",
   "execution_count": 12,
   "metadata": {},
   "outputs": [
    {
     "name": "stdout",
     "output_type": "stream",
     "text": [
      "Number is not greater than 5\n"
     ]
    }
   ],
   "source": [
    "num = 2\n",
    "\n",
    "if num > 5:   \n",
    "    print (\"Number is greater than 5\")\n",
    "    \n",
    "else :\n",
    "    print (\"Number is not greater than 5\") "
   ]
  },
  {
   "cell_type": "code",
   "execution_count": 13,
   "metadata": {},
   "outputs": [
    {
     "name": "stdout",
     "output_type": "stream",
     "text": [
      "Enter a number: 20\n",
      "Number is greater than 10\n"
     ]
    }
   ],
   "source": [
    "num = int(input(\"Enter a number: \"))\n",
    "\n",
    "if num > 10:   \n",
    "    print (\"Number is greater than 10\")\n",
    "    \n",
    "else :\n",
    "    print (\"Number is not greater than 10\")"
   ]
  },
  {
   "cell_type": "markdown",
   "metadata": {},
   "source": [
    "### 1.1.3. ELIF STATEMENT\n"
   ]
  },
  {
   "cell_type": "markdown",
   "metadata": {},
   "source": [
    "Using `if` statement, we have defined the required actions to be taken when a certain condition is fulfilled. What if the condition is not met? `elif` is one of the statements that allows us to do this. `elif`, which is an abbreviation of `else if`, enables us to determine new conditions if the previous condition has not been fulfilled. Briefly, an elif statement is used to execute exactly one of several alternatives. The block of code starts with an if statement, continue with one or more `elif` statements depending on the case, finally followed by an else part depending on the case again."
   ]
  },
  {
   "cell_type": "code",
   "execution_count": 14,
   "metadata": {},
   "outputs": [
    {
     "name": "stdout",
     "output_type": "stream",
     "text": [
      "Enter a number: 23\n",
      "Number is greater than 10\n"
     ]
    }
   ],
   "source": [
    "num = float(input(\"Enter a number: \"))\n",
    "\n",
    "if num > 10:\n",
    "    print('Number is greater than 10')\n",
    "    \n",
    "elif num < 10:\n",
    "    print('Number is less than 10')\n",
    "    \n",
    "else:\n",
    "    print('Number is equal to 10')"
   ]
  },
  {
   "cell_type": "markdown",
   "metadata": {},
   "source": [
    "### 1.1.4. NESTED IF STATEMENT"
   ]
  },
  {
   "cell_type": "markdown",
   "metadata": {},
   "source": [
    "When an if statement appears inside the body of another if statement, then it is called `nested if statement`. In nested if statement, we need to pay close attention to indentation."
   ]
  },
  {
   "cell_type": "code",
   "execution_count": 15,
   "metadata": {},
   "outputs": [
    {
     "name": "stdout",
     "output_type": "stream",
     "text": [
      "a is greater than 1\n",
      "c --> True\n"
     ]
    }
   ],
   "source": [
    "a = 2\n",
    "b = a>1\n",
    "c = 6>5\n",
    "d = a>3\n",
    "\n",
    "if b or c:\n",
    "    print (\"a is greater than 1\")\n",
    "    \n",
    "    if b*c:\n",
    "        print (\"c --> True\")\n",
    "        \n",
    "elif d:\n",
    "    print (\"a is not greater than 1\")\n",
    "    \n",
    "elif c==True:\n",
    "    print (\"a is not greater than 5\")\n",
    "    \n",
    "else:\n",
    "    print (\"a is equal to 0\")"
   ]
  },
  {
   "cell_type": "markdown",
   "metadata": {},
   "source": [
    "## 1.2. Loops"
   ]
  },
  {
   "cell_type": "markdown",
   "metadata": {},
   "source": [
    "How would you type a program that iterates the same task more than once? `for` loops address this question and these two prominent functions are used in iterative applications in Python.\n",
    "\n"
   ]
  },
  {
   "cell_type": "markdown",
   "metadata": {},
   "source": [
    "The usage of `for` loop is so common that it is almost all Python programs include `for` loop. The for statement in Python supports iterative execution of a statement / block of statements and controlled by an iterable expression. This lesson introduces how to use for loop in Python, which is the backbone in Python programming."
   ]
  },
  {
   "cell_type": "markdown",
   "metadata": {},
   "source": [
    "It is possible to execute for loop with many data types and functions. So, after an introduction to for loop, we are going to learn how it is used with list, dictionary, string and range."
   ]
  },
  {
   "cell_type": "markdown",
   "metadata": {},
   "source": [
    "### 1.2.1. FOR LOOPS\n"
   ]
  },
  {
   "cell_type": "markdown",
   "metadata": {},
   "source": [
    "`for loop` is a generic sequence iterator in Python. Using for loop, the programmer is allowed to go through the items in any ordered iterable object. The iterable objects can be tuples, lists, strings or dictionaries.\n",
    "\n",
    "The first line of `for` statement is followed by a block of indented statements as shown below:"
   ]
  },
  {
   "cell_type": "markdown",
   "metadata": {},
   "source": [
    "    for <target> in <object>: # Assign object items to target. \n",
    "        <statements> # Repeated loop body: use target"
   ]
  },
  {
   "cell_type": "markdown",
   "metadata": {},
   "source": [
    "In practice, for loop works as follows:"
   ]
  },
  {
   "cell_type": "code",
   "execution_count": 17,
   "metadata": {},
   "outputs": [
    {
     "name": "stdout",
     "output_type": "stream",
     "text": [
      "Even numbers:  [0, 2, 4, 6, 8]\n",
      "Odd numbers :  [1, 9, 25, 49, 81]\n"
     ]
    }
   ],
   "source": [
    "even_numbers = []\n",
    "odd_numbers = []\n",
    "\n",
    "for n in range(10): # Iterates from 0 to 10 (10 is excluded)\n",
    "    if n % 2 == 0:\n",
    "        even_numbers.append(n)\n",
    "        \n",
    "    else:\n",
    "        odd_numbers.append(n ** 2)\n",
    "\n",
    "print(\"Even numbers: \", even_numbers)\n",
    "print(\"Odd numbers : \", odd_numbers)"
   ]
  },
  {
   "cell_type": "markdown",
   "metadata": {},
   "source": [
    "Let's see how `for loop` works with list:"
   ]
  },
  {
   "cell_type": "code",
   "execution_count": 18,
   "metadata": {},
   "outputs": [
    {
     "name": "stdout",
     "output_type": "stream",
     "text": [
      "Hello Adam\n",
      "Hello Hans\n",
      "Hello Jack\n"
     ]
    }
   ],
   "source": [
    "names = [\"Adam\", \"Hans\", \"Jack\"]\n",
    "\n",
    "for name in names:\n",
    "    greeting = \"Hello \" + name\n",
    "    print(greeting)"
   ]
  },
  {
   "cell_type": "markdown",
   "metadata": {},
   "source": [
    "How about `for loop` with string:"
   ]
  },
  {
   "cell_type": "code",
   "execution_count": 19,
   "metadata": {},
   "outputs": [
    {
     "name": "stdout",
     "output_type": "stream",
     "text": [
      "a\n",
      "c\n",
      "c\n",
      "e\n",
      "s\n",
      "s\n",
      "o\n",
      "r\n",
      "i\n",
      "e\n",
      "s\n"
     ]
    }
   ],
   "source": [
    "for character in \"accessories\":\n",
    "    print(character)"
   ]
  },
  {
   "cell_type": "markdown",
   "metadata": {},
   "source": [
    "One of the most useful function used with `for loop` is `range`. We use `range()` function in Python to show numbers in a certain range. range() is a frequently used function in for loop. What we can do with range is listed below:"
   ]
  },
  {
   "cell_type": "code",
   "execution_count": 21,
   "metadata": {},
   "outputs": [
    {
     "name": "stdout",
     "output_type": "stream",
     "text": [
      "0\n",
      "1\n",
      "2\n",
      "3\n",
      "4\n",
      "5\n",
      "6\n",
      "7\n"
     ]
    }
   ],
   "source": [
    "for x in range(8): # If range starts with 0, it can be dismissed.\n",
    "    print (x)"
   ]
  },
  {
   "cell_type": "markdown",
   "metadata": {},
   "source": [
    "**Practice Time**"
   ]
  },
  {
   "cell_type": "code",
   "execution_count": 23,
   "metadata": {},
   "outputs": [
    {
     "name": "stdout",
     "output_type": "stream",
     "text": [
      "Fruit is: orange\n",
      "Fruit is: apple\n",
      "Fruit is: banana\n",
      "Fruit is: cherry\n"
     ]
    }
   ],
   "source": [
    "items = ['orange', 'apple', 'banana', 'cherry']\n",
    "\n",
    "for i in items:\n",
    "    print('Fruit is:', i)"
   ]
  },
  {
   "cell_type": "code",
   "execution_count": 24,
   "metadata": {},
   "outputs": [
    {
     "name": "stdout",
     "output_type": "stream",
     "text": [
      "1061\n"
     ]
    }
   ],
   "source": [
    "sum_of_primes=0\n",
    "\n",
    "for x in range(1,101):\n",
    "    count=0\n",
    "    \n",
    "    if x<=2:\n",
    "        sum_of_primes+=x\n",
    "        \n",
    "    elif x%2!=0:\n",
    "        for y in range(2,x//2):\n",
    "            if (x%y)==0:\n",
    "                count+=1\n",
    "                \n",
    "        if count==0:\n",
    "            sum_of_primes+=x\n",
    "            \n",
    "print(sum_of_primes)"
   ]
  },
  {
   "cell_type": "markdown",
   "metadata": {},
   "source": [
    "## 1.3. Function"
   ]
  },
  {
   "cell_type": "markdown",
   "metadata": {},
   "source": [
    "Programming language needs to have a way to reuse and store the code it generates. In Python, function serves as a mean of basic units of reusable code. In this lesson, we are going to look at how functions work in Python."
   ]
  },
  {
   "cell_type": "markdown",
   "metadata": {},
   "source": [
    "Basically, Python is made up of expressions, statements, functions, classes, modules, and packages. And functions is a step to make our job easier to develop and debug. Main objectives of functions are:\n"
   ]
  },
  {
   "cell_type": "markdown",
   "metadata": {},
   "source": [
    "* After writing the code, it makes it easier to call.\n",
    "* Functions allow us to test on a specific part of the solution.\n",
    "* Once we are done writing the code, we can hide the details.\n",
    "* Functions help us avoid repetition of codes.\n",
    "* We can divide a complex problem into simpler parts."
   ]
  },
  {
   "cell_type": "markdown",
   "metadata": {},
   "source": [
    "Let me look at how we can write our own tailor-made function:"
   ]
  },
  {
   "cell_type": "markdown",
   "metadata": {},
   "source": [
    "A function starts with def statement.\n",
    "* Then the name of the function comes. Using this name, we can access our function elsewhere in the code.\n",
    "* Functions take arguments which are inputs given by a user inside parentheses when the function is called. The function receives these argument values. The number of parameters in a function’s definition indicates the number of arguments that must be supplied when the function is called.\n",
    "* After closing the parentheses, we finish the line with colon : and write the next operations starting with the indentation.\n",
    "* We specify the output of the function with return command.\n"
   ]
  },
  {
   "cell_type": "markdown",
   "metadata": {},
   "source": [
    "So, the basic general format of the functions turns out:"
   ]
  },
  {
   "cell_type": "markdown",
   "metadata": {},
   "source": [
    "    def <name of the function>(arg1, arg2,... argN):\n",
    "        <statements>\n",
    "        return <values>"
   ]
  },
  {
   "cell_type": "markdown",
   "metadata": {},
   "source": [
    "`def` Statement and Parameter"
   ]
  },
  {
   "cell_type": "markdown",
   "metadata": {},
   "source": [
    "`def` statement is a common way to define a function. function name is an arbitrary selection of the programmer. It is an identifier. parameters is, on the other hand, an optional list of identifiers, known as formal parameters. It is supplied as arguments from users when the function is called. When a function includes arguments, parameters contain one or more comma-separated arguments."
   ]
  },
  {
   "cell_type": "markdown",
   "metadata": {},
   "source": [
    "`return` Statement"
   ]
  },
  {
   "cell_type": "markdown",
   "metadata": {},
   "source": [
    "Inside the body of a function, there is a statement called `return` and completes the function. This statement can be optionally followed by an expression.\n",
    "\n",
    "A function returns None if it terminates by reaching the end of its body or by executing a return statement that has no expression."
   ]
  },
  {
   "cell_type": "markdown",
   "metadata": {},
   "source": [
    "`Calling` a Function"
   ]
  },
  {
   "cell_type": "markdown",
   "metadata": {},
   "source": [
    "\n",
    "A function is called as:\n",
    "\n",
    "    function_name(arguments)\n"
   ]
  },
  {
   "cell_type": "markdown",
   "metadata": {},
   "source": [
    "function_name is a function name of a user's choice. Parentheses represent the operation of calling function. Arguments in parentheses are a comma-separated one or more expressions, providing values for the function. When a function is called, argument values obey the parameters, the function body executes and the value is returned."
   ]
  },
  {
   "cell_type": "markdown",
   "metadata": {},
   "source": [
    "**Examples**"
   ]
  },
  {
   "cell_type": "markdown",
   "metadata": {},
   "source": [
    "As an example, let us calculate the length of the hypotenuse of a right triangle, whose perpendicular edges are given as parameters, by writing a function where we name it `hip`:"
   ]
  },
  {
   "cell_type": "code",
   "execution_count": 2,
   "metadata": {},
   "outputs": [],
   "source": [
    "def hip(edge_1, edge_2):\n",
    "    hypotenuse = ((edge_1**2) + (edge_2**2))**0.5\n",
    "    return hypotenuse"
   ]
  },
  {
   "cell_type": "code",
   "execution_count": 3,
   "metadata": {},
   "outputs": [
    {
     "name": "stdout",
     "output_type": "stream",
     "text": [
      "5.0\n",
      "10.0\n",
      "13.0\n"
     ]
    }
   ],
   "source": [
    "print(hip(3, 4))\n",
    "print(hip(6, 8))\n",
    "print(hip(5, 12))"
   ]
  },
  {
   "cell_type": "markdown",
   "metadata": {},
   "source": [
    "As another example, let us write a function that lists the square of counting numbers less than a number entered:"
   ]
  },
  {
   "cell_type": "code",
   "execution_count": null,
   "metadata": {},
   "outputs": [],
   "source": [
    "def little_square_to_list(x):\n",
    "    little_list=[]\n",
    "    \n",
    "    for y in range(1, x):\n",
    "        little_list.append(y**2)\n",
    "    \n",
    "    return little_list\n",
    "\n",
    "print(little_square_to_list(15))"
   ]
  },
  {
   "cell_type": "markdown",
   "metadata": {},
   "source": [
    "Define a function which can generate and print a list where the values are square of numbers between 1 and 20 (both included)."
   ]
  },
  {
   "cell_type": "code",
   "execution_count": 5,
   "metadata": {},
   "outputs": [],
   "source": [
    "def printList():\n",
    "    li=list()\n",
    "    for i in range(1,21):\n",
    "        li.append(i**2)\n",
    "    print(li)"
   ]
  },
  {
   "cell_type": "code",
   "execution_count": 8,
   "metadata": {},
   "outputs": [
    {
     "name": "stdout",
     "output_type": "stream",
     "text": [
      "[1, 4, 9, 16, 25, 36, 49, 64, 81, 100, 121, 144, 169, 196, 225, 256, 289, 324, 361, 400]\n"
     ]
    }
   ],
   "source": [
    "printList()"
   ]
  }
 ],
 "metadata": {
  "kernelspec": {
   "display_name": "Python 3",
   "language": "python",
   "name": "python3"
  },
  "language_info": {
   "codemirror_mode": {
    "name": "ipython",
    "version": 3
   },
   "file_extension": ".py",
   "mimetype": "text/x-python",
   "name": "python",
   "nbconvert_exporter": "python",
   "pygments_lexer": "ipython3",
   "version": "3.7.3"
  }
 },
 "nbformat": 4,
 "nbformat_minor": 4
}
