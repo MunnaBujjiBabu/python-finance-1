{
 "cells": [
  {
   "cell_type": "markdown",
   "metadata": {},
   "source": [
    "#  1. Regression Analysis \n",
    "## Abdullah Karasan"
   ]
  },
  {
   "cell_type": "markdown",
   "metadata": {},
   "source": [
    "In finance, it is highly likely that we need an algorithm that generates outputs with continuous numerical values. No matter how old it is, it has been highly acknowledge technique. Still, it is one of the most preferable model in academic and business world."
   ]
  },
  {
   "cell_type": "markdown",
   "metadata": {},
   "source": [
    "Surely, there are some solid reasoning why it is a such a highly appreciated model. First and foremost, it has a closed form solution so that we have global optimum point. In addition to that it is rather intuitive and easy-to-follow and easy-to-apply technique. In this lesson, we will learn the regression analysis from both theoretical and empirical standpoint."
   ]
  },
  {
   "cell_type": "markdown",
   "metadata": {},
   "source": [
    "Let's examine the general structure of linear regression. Our ultimate aim is to find a relationship between dependent variable and independent variable(s). Dependent variable is a variable that we try to explain using somewhat correlated variables called independent variable. We may have more than one independent variables, it is called `multivariate` case and if we have only one independent variable, it is known as `univariate` case. Needles to say, dependent variable should be single variable."
   ]
  },
  {
   "cell_type": "markdown",
   "metadata": {},
   "source": [
    "Mathematically speaking,"
   ]
  },
  {
   "cell_type": "markdown",
   "metadata": {},
   "source": [
    "$$ y = \\beta_0 + \\beta_1x_1 + \\beta_2x_2 + ... + \\beta_nx_n + \\epsilon \\qquad$$"
   ]
  },
  {
   "cell_type": "markdown",
   "metadata": {},
   "source": [
    "$y$ denotes the dependent variable and $x_1, x_2,..., x_n$s represent the independent variables. In linear regression, our ultimate aim is to estimate the coefficients, which are represented by $\\beta_0$, $\\beta_1$,...,$\\beta_n$. To be more specific, $\\beta_0$ is called intercept term or bias and the other $\\beta$ parameters are called slope coefficient. Finally, $\\epsilon $ is the error term, which store the information that is not explained by independent variables. If we do not have the $\\epsilon$ term, the analysis is no longer a statistical analysis but a deterministic one."
   ]
  },
  {
   "cell_type": "markdown",
   "metadata": {},
   "source": [
    "At this point, it would be helpful to run a regression example as we are about to check if the result we get from regression analysis satisfy the Gauss-Markov assumptions. Our dataset is about the relationship of ingredients of red and white wine and the quality of them."
   ]
  },
  {
   "cell_type": "markdown",
   "metadata": {},
   "source": [
    "Let's first import libraries and the dataset. "
   ]
  },
  {
   "cell_type": "code",
   "execution_count": 12,
   "metadata": {},
   "outputs": [],
   "source": [
    "import pandas as pd\n",
    "import matplotlib.pyplot as plt\n",
    "import numpy as np\n",
    "from sklearn import linear_model\n",
    "from sklearn.linear_model import LinearRegression \n",
    "import statsmodels.api as sm\n",
    "import plotly.graph_objs as go\n",
    "import plotly.offline as py\n",
    "import warnings\n",
    "warnings.filterwarnings('ignore')"
   ]
  },
  {
   "cell_type": "markdown",
   "metadata": {},
   "source": [
    "I'll apply linear regression model on a medical cost dataset from Kaggle, which is called \"Medical Cost Personal Dataset\" and can be found at this [link](https://www.kaggle.com/mirichoi0218/insurance).\n",
    "\n",
    "\n"
   ]
  },
  {
   "cell_type": "markdown",
   "metadata": {},
   "source": [
    "The data is about the costs charged by the insurance companies to individuals. These are costs that the insured individuals were required to pay after the insurance company made payments to medical providers. \n",
    "\n",
    "The dataset includes six variables as described below:\n",
    "\n",
    "* age: The age of the individual. It's a numeric.\n",
    "* sex: The biological sex of the insured. It is categorical (male or female).\n",
    "* bmi: Body mass index. This index indicates whether an individual's weight is relatively high or low, based on height. This index defines an ideal range between 18.5 and 24.9. The variable is continuous.\n",
    "* children: How many dependent children the insured person has. Dependents are covered by the insurance plan. This is a numeric variable.\n",
    "* smoker: This categorical variable (yes | no) indicates or not the person smokes.\n",
    "* region: The person's residential area in the US. It's a categorical variable (northeast, southeast, southwest, northwest).\n",
    "* charges: The medical costs (in US dollars) billed by the insurance company. It's a continuous variable.\n",
    "\n",
    "In the examples, the target variable is \"charges\" billed by the insurance company. Since, it's a continuous variable, we're dealing with a regression task.\n"
   ]
  },
  {
   "cell_type": "code",
   "execution_count": 16,
   "metadata": {},
   "outputs": [],
   "source": [
    "insurance_df=pd.read_csv('datasets/insurance.csv')"
   ]
  },
  {
   "cell_type": "markdown",
   "metadata": {},
   "source": [
    "Let's observe the data before moving on:"
   ]
  },
  {
   "cell_type": "markdown",
   "metadata": {},
   "source": [
    "## 1.1. Preliminary data exploration"
   ]
  },
  {
   "cell_type": "code",
   "execution_count": 17,
   "metadata": {},
   "outputs": [
    {
     "data": {
      "text/html": [
       "<div>\n",
       "<style scoped>\n",
       "    .dataframe tbody tr th:only-of-type {\n",
       "        vertical-align: middle;\n",
       "    }\n",
       "\n",
       "    .dataframe tbody tr th {\n",
       "        vertical-align: top;\n",
       "    }\n",
       "\n",
       "    .dataframe thead th {\n",
       "        text-align: right;\n",
       "    }\n",
       "</style>\n",
       "<table border=\"1\" class=\"dataframe\">\n",
       "  <thead>\n",
       "    <tr style=\"text-align: right;\">\n",
       "      <th></th>\n",
       "      <th>age</th>\n",
       "      <th>sex</th>\n",
       "      <th>bmi</th>\n",
       "      <th>children</th>\n",
       "      <th>smoker</th>\n",
       "      <th>region</th>\n",
       "      <th>charges</th>\n",
       "    </tr>\n",
       "  </thead>\n",
       "  <tbody>\n",
       "    <tr>\n",
       "      <th>0</th>\n",
       "      <td>19</td>\n",
       "      <td>female</td>\n",
       "      <td>27.900</td>\n",
       "      <td>0</td>\n",
       "      <td>yes</td>\n",
       "      <td>southwest</td>\n",
       "      <td>16884.92400</td>\n",
       "    </tr>\n",
       "    <tr>\n",
       "      <th>1</th>\n",
       "      <td>18</td>\n",
       "      <td>male</td>\n",
       "      <td>33.770</td>\n",
       "      <td>1</td>\n",
       "      <td>no</td>\n",
       "      <td>southeast</td>\n",
       "      <td>1725.55230</td>\n",
       "    </tr>\n",
       "    <tr>\n",
       "      <th>2</th>\n",
       "      <td>28</td>\n",
       "      <td>male</td>\n",
       "      <td>33.000</td>\n",
       "      <td>3</td>\n",
       "      <td>no</td>\n",
       "      <td>southeast</td>\n",
       "      <td>4449.46200</td>\n",
       "    </tr>\n",
       "    <tr>\n",
       "      <th>3</th>\n",
       "      <td>33</td>\n",
       "      <td>male</td>\n",
       "      <td>22.705</td>\n",
       "      <td>0</td>\n",
       "      <td>no</td>\n",
       "      <td>northwest</td>\n",
       "      <td>21984.47061</td>\n",
       "    </tr>\n",
       "    <tr>\n",
       "      <th>4</th>\n",
       "      <td>32</td>\n",
       "      <td>male</td>\n",
       "      <td>28.880</td>\n",
       "      <td>0</td>\n",
       "      <td>no</td>\n",
       "      <td>northwest</td>\n",
       "      <td>3866.85520</td>\n",
       "    </tr>\n",
       "    <tr>\n",
       "      <th>5</th>\n",
       "      <td>31</td>\n",
       "      <td>female</td>\n",
       "      <td>25.740</td>\n",
       "      <td>0</td>\n",
       "      <td>no</td>\n",
       "      <td>southeast</td>\n",
       "      <td>3756.62160</td>\n",
       "    </tr>\n",
       "    <tr>\n",
       "      <th>6</th>\n",
       "      <td>46</td>\n",
       "      <td>female</td>\n",
       "      <td>33.440</td>\n",
       "      <td>1</td>\n",
       "      <td>no</td>\n",
       "      <td>southeast</td>\n",
       "      <td>8240.58960</td>\n",
       "    </tr>\n",
       "    <tr>\n",
       "      <th>7</th>\n",
       "      <td>37</td>\n",
       "      <td>female</td>\n",
       "      <td>27.740</td>\n",
       "      <td>3</td>\n",
       "      <td>no</td>\n",
       "      <td>northwest</td>\n",
       "      <td>7281.50560</td>\n",
       "    </tr>\n",
       "    <tr>\n",
       "      <th>8</th>\n",
       "      <td>37</td>\n",
       "      <td>male</td>\n",
       "      <td>29.830</td>\n",
       "      <td>2</td>\n",
       "      <td>no</td>\n",
       "      <td>northeast</td>\n",
       "      <td>6406.41070</td>\n",
       "    </tr>\n",
       "    <tr>\n",
       "      <th>9</th>\n",
       "      <td>60</td>\n",
       "      <td>female</td>\n",
       "      <td>25.840</td>\n",
       "      <td>0</td>\n",
       "      <td>no</td>\n",
       "      <td>northwest</td>\n",
       "      <td>28923.13692</td>\n",
       "    </tr>\n",
       "  </tbody>\n",
       "</table>\n",
       "</div>"
      ],
      "text/plain": [
       "   age     sex     bmi  children smoker     region      charges\n",
       "0   19  female  27.900         0    yes  southwest  16884.92400\n",
       "1   18    male  33.770         1     no  southeast   1725.55230\n",
       "2   28    male  33.000         3     no  southeast   4449.46200\n",
       "3   33    male  22.705         0     no  northwest  21984.47061\n",
       "4   32    male  28.880         0     no  northwest   3866.85520\n",
       "5   31  female  25.740         0     no  southeast   3756.62160\n",
       "6   46  female  33.440         1     no  southeast   8240.58960\n",
       "7   37  female  27.740         3     no  northwest   7281.50560\n",
       "8   37    male  29.830         2     no  northeast   6406.41070\n",
       "9   60  female  25.840         0     no  northwest  28923.13692"
      ]
     },
     "execution_count": 17,
     "metadata": {},
     "output_type": "execute_result"
    }
   ],
   "source": [
    "insurance_df.head(10)"
   ]
  },
  {
   "cell_type": "markdown",
   "metadata": {},
   "source": [
    "First, let's look at the distribution of our target variable: `charges`. Investigating how our target is distributed helps us understand the relationship between the target and the features. It's also useful to discover some potential problems with our model as we'll discuss in the next lesson:"
   ]
  },
  {
   "cell_type": "code",
   "execution_count": 18,
   "metadata": {},
   "outputs": [
    {
     "data": {
      "image/png": "[encoded data removed]",
      "text/plain": [
       "<Figure size 432x288 with 1 Axes>"
      ]
     },
     "metadata": {
      "needs_background": "light"
     },
     "output_type": "display_data"
    }
   ],
   "source": [
    "plt.hist(insurance_df.charges)\n",
    "plt.title(\"The distribution of insurance charges\")\n",
    "plt.xlabel(\"charges\")\n",
    "plt.ylabel(\"number of occurrence\")\n",
    "plt.show()"
   ]
  },
  {
   "cell_type": "markdown",
   "metadata": {},
   "source": [
    "It is readily observable that charges is not distributed normally. Instead it's highly skewed. Skewness is a measure of how asymmetric our data is with respect to the normal distribution. As we see in the graph, the charges variable is not symmetric but skewed to the right. The majority of the observations have low charges values and few of the observations have high charges values. This makes the distribution of the charges clustered at the left-most part of the histogram."
   ]
  },
  {
   "cell_type": "markdown",
   "metadata": {},
   "source": [
    "Notice that the categorical variables are strings and we need to convert them to numerical values. This can be viewed as part of the feature engineering process. One of the most convenient ways of converting categorical variables into numerical ones is called one hot encoding. In one hot encoding, we create a sperate binary variable which takes 0 or 1 for each of the unique values of the categorical variable. Pandas' get_dummies() function does this job for us."
   ]
  },
  {
   "cell_type": "code",
   "execution_count": 20,
   "metadata": {},
   "outputs": [],
   "source": [
    "insurance_df[\"is_male\"] = pd.get_dummies(insurance_df.sex, drop_first=True)\n",
    "insurance_df[\"is_smoker\"] = pd.get_dummies(insurance_df.smoker, drop_first=True)"
   ]
  },
  {
   "cell_type": "markdown",
   "metadata": {},
   "source": [
    "After discretization of the variable, I would like to examine the gender and smoker effects on the insurance charge. At a first glance, gender and smoking may play an important role in the insurance charges. So, let's look at whether we see some differences between the average costs billed to different genders and to those who smoke:"
   ]
  },
  {
   "cell_type": "code",
   "execution_count": 21,
   "metadata": {},
   "outputs": [
    {
     "data": {
      "image/png": "[encoded data removed]",
      "text/plain": [
       "<Figure size 720x288 with 2 Axes>"
      ]
     },
     "metadata": {
      "needs_background": "light"
     },
     "output_type": "display_data"
    }
   ],
   "source": [
    "plt.figure(figsize=(10,4))\n",
    "\n",
    "plt.subplot(1,2,1)\n",
    "plt.bar(insurance_df.groupby(\"is_male\")[\"charges\"].mean().index, insurance_df.groupby(\"is_male\")[\"charges\"].mean(),\n",
    "       color=(\"pink\",\"blue\"))\n",
    "plt.title(\"Average insurance cost wrt. gender\")\n",
    "plt.ylabel(\"Average cost\")\n",
    "plt.xlabel(\"Is male?\")\n",
    "plt.xticks([0,1])\n",
    "\n",
    "plt.subplot(1,2,2)\n",
    "plt.bar(insurance_df.groupby(\"is_smoker\")[\"charges\"].mean().index, insurance_df.groupby(\"is_smoker\")[\"charges\"].mean(),\n",
    "       color=(\"green\",\"grey\"))\n",
    "plt.title(\"Average insurance cost wrt. smoking\")\n",
    "plt.ylabel(\"Average cost\")\n",
    "plt.xlabel(\"Is smoker?\")\n",
    "plt.xticks([0,1])\n",
    "\n",
    "plt.tight_layout()\n",
    "plt.show()"
   ]
  },
  {
   "cell_type": "markdown",
   "metadata": {},
   "source": [
    "Yes it does, being male and smoker result in higher insurance charges."
   ]
  },
  {
   "cell_type": "markdown",
   "metadata": {},
   "source": [
    "## 1.2. Modeling the insurance charges with linear regression¶"
   ]
  },
  {
   "cell_type": "markdown",
   "metadata": {},
   "source": [
    "$$charges=\\beta_0+\\beta_1\\text{is_smoker}+\\beta_2\\text{is_male}+\\epsilon$$"
   ]
  },
  {
   "cell_type": "code",
   "execution_count": 50,
   "metadata": {},
   "outputs": [
    {
     "name": "stdout",
     "output_type": "stream",
     "text": [
      "\n",
      "Coefficients: \n",
      " [  -65.37843464 23622.1345855 ]\n",
      "\n",
      "Intercept: \n",
      " 8466.035826716778\n"
     ]
    }
   ],
   "source": [
    "# Y is the target variable\n",
    "Y = insurance_df['charges']\n",
    "# X is the feature set which includes\n",
    "# is_male and is_smoker variables\n",
    "X = insurance_df[['is_male','is_smoker']]\n",
    "\n",
    "# We create a LinearRegression model object\n",
    "# from scikit-learn's linear_model module.\n",
    "lrm = linear_model.LinearRegression()\n",
    "\n",
    "# fit method estimates the coefficients using OLS\n",
    "lrm.fit(X, Y)\n",
    "\n",
    "# Inspect the results.\n",
    "print('\\nCoefficients: \\n', lrm.coef_)\n",
    "print('\\nIntercept: \\n', lrm.intercept_)"
   ]
  },
  {
   "cell_type": "markdown",
   "metadata": {},
   "source": [
    "** Quick Note: Putting a constant in a model is optional, but it's a good idea to include a constant in every model you build. Even though you think that the constant would be zero, letting the OLS to decide whether it is zero or not is the safest way."
   ]
  },
  {
   "cell_type": "code",
   "execution_count": 51,
   "metadata": {},
   "outputs": [
    {
     "name": "stdout",
     "output_type": "stream",
     "text": [
      "\n",
      "Coefficients: \n",
      " [  -65.37843464 23622.1345855 ]\n",
      "\n",
      "Intercept: \n",
      " 8466.035826716778\n"
     ]
    }
   ],
   "source": [
    "# Y is the target variable\n",
    "Y = insurance_df['charges']\n",
    "# X is the feature set which includes\n",
    "# is_male and is_smoker variables\n",
    "X = insurance_df[['is_male','is_smoker']]\n",
    "\n",
    "# We create a LinearRegression model object\n",
    "# from scikit-learn's linear_model module.\n",
    "lrm = linear_model.LinearRegression()\n",
    "\n",
    "# fit method estimates the coefficients using OLS\n",
    "lrm.fit(X, Y)\n",
    "\n",
    "# Inspect the results.\n",
    "print('\\nCoefficients: \\n', lrm.coef_)\n",
    "print('\\nIntercept: \\n', lrm.intercept_)"
   ]
  },
  {
   "cell_type": "markdown",
   "metadata": {},
   "source": [
    "`LinearRegression()`'s `fit()` method runs OLS algorithm by default. Since we get the parameters using OLS, we can write our estimated model:"
   ]
  },
  {
   "cell_type": "markdown",
   "metadata": {},
   "source": [
    "$$charges=8466.04+-65.37\\text{is_smoker}+23622\\text{is_male}+\\epsilon$$"
   ]
  },
  {
   "cell_type": "markdown",
   "metadata": {},
   "source": [
    "According to the estimation results, constant term is 8466.04. Estimated coefficients of `is_male` and `is_smoker` features are -65.38 and 23622.14 respectively. Later in this module, we'll delve into how to interpret these estimated coefficients."
   ]
  },
  {
   "cell_type": "code",
   "execution_count": 52,
   "metadata": {},
   "outputs": [
    {
     "data": {
      "text/html": [
       "<table class=\"simpletable\">\n",
       "<caption>OLS Regression Results</caption>\n",
       "<tr>\n",
       "  <th>Dep. Variable:</th>         <td>charges</td>     <th>  R-squared:         </th> <td>   0.620</td> \n",
       "</tr>\n",
       "<tr>\n",
       "  <th>Model:</th>                   <td>OLS</td>       <th>  Adj. R-squared:    </th> <td>   0.619</td> \n",
       "</tr>\n",
       "<tr>\n",
       "  <th>Method:</th>             <td>Least Squares</td>  <th>  F-statistic:       </th> <td>   1088.</td> \n",
       "</tr>\n",
       "<tr>\n",
       "  <th>Date:</th>             <td>Sun, 02 Aug 2020</td> <th>  Prob (F-statistic):</th> <td>4.78e-281</td>\n",
       "</tr>\n",
       "<tr>\n",
       "  <th>Time:</th>                 <td>17:23:03</td>     <th>  Log-Likelihood:    </th> <td> -13831.</td> \n",
       "</tr>\n",
       "<tr>\n",
       "  <th>No. Observations:</th>      <td>  1338</td>      <th>  AIC:               </th> <td>2.767e+04</td>\n",
       "</tr>\n",
       "<tr>\n",
       "  <th>Df Residuals:</th>          <td>  1335</td>      <th>  BIC:               </th> <td>2.768e+04</td>\n",
       "</tr>\n",
       "<tr>\n",
       "  <th>Df Model:</th>              <td>     2</td>      <th>                     </th>     <td> </td>    \n",
       "</tr>\n",
       "<tr>\n",
       "  <th>Covariance Type:</th>      <td>nonrobust</td>    <th>                     </th>     <td> </td>    \n",
       "</tr>\n",
       "</table>\n",
       "<table class=\"simpletable\">\n",
       "<tr>\n",
       "      <td></td>         <th>coef</th>     <th>std err</th>      <th>t</th>      <th>P>|t|</th>  <th>[0.025</th>    <th>0.975]</th>  \n",
       "</tr>\n",
       "<tr>\n",
       "  <th>const</th>     <td> 8466.0358</td> <td>  303.541</td> <td>   27.891</td> <td> 0.000</td> <td> 7870.566</td> <td> 9061.506</td>\n",
       "</tr>\n",
       "<tr>\n",
       "  <th>is_male</th>   <td>  -65.3784</td> <td>  409.809</td> <td>   -0.160</td> <td> 0.873</td> <td> -869.318</td> <td>  738.561</td>\n",
       "</tr>\n",
       "<tr>\n",
       "  <th>is_smoker</th> <td> 2.362e+04</td> <td>  507.736</td> <td>   46.524</td> <td> 0.000</td> <td> 2.26e+04</td> <td> 2.46e+04</td>\n",
       "</tr>\n",
       "</table>\n",
       "<table class=\"simpletable\">\n",
       "<tr>\n",
       "  <th>Omnibus:</th>       <td>135.842</td> <th>  Durbin-Watson:     </th> <td>   2.025</td>\n",
       "</tr>\n",
       "<tr>\n",
       "  <th>Prob(Omnibus):</th> <td> 0.000</td>  <th>  Jarque-Bera (JB):  </th> <td> 211.897</td>\n",
       "</tr>\n",
       "<tr>\n",
       "  <th>Skew:</th>          <td> 0.727</td>  <th>  Prob(JB):          </th> <td>9.71e-47</td>\n",
       "</tr>\n",
       "<tr>\n",
       "  <th>Kurtosis:</th>      <td> 4.299</td>  <th>  Cond. No.          </th> <td>    2.97</td>\n",
       "</tr>\n",
       "</table><br/><br/>Warnings:<br/>[1] Standard Errors assume that the covariance matrix of the errors is correctly specified."
      ],
      "text/plain": [
       "<class 'statsmodels.iolib.summary.Summary'>\n",
       "\"\"\"\n",
       "                            OLS Regression Results                            \n",
       "==============================================================================\n",
       "Dep. Variable:                charges   R-squared:                       0.620\n",
       "Model:                            OLS   Adj. R-squared:                  0.619\n",
       "Method:                 Least Squares   F-statistic:                     1088.\n",
       "Date:                Sun, 02 Aug 2020   Prob (F-statistic):          4.78e-281\n",
       "Time:                        17:23:03   Log-Likelihood:                -13831.\n",
       "No. Observations:                1338   AIC:                         2.767e+04\n",
       "Df Residuals:                    1335   BIC:                         2.768e+04\n",
       "Df Model:                           2                                         \n",
       "Covariance Type:            nonrobust                                         \n",
       "==============================================================================\n",
       "                 coef    std err          t      P>|t|      [0.025      0.975]\n",
       "------------------------------------------------------------------------------\n",
       "const       8466.0358    303.541     27.891      0.000    7870.566    9061.506\n",
       "is_male      -65.3784    409.809     -0.160      0.873    -869.318     738.561\n",
       "is_smoker   2.362e+04    507.736     46.524      0.000    2.26e+04    2.46e+04\n",
       "==============================================================================\n",
       "Omnibus:                      135.842   Durbin-Watson:                   2.025\n",
       "Prob(Omnibus):                  0.000   Jarque-Bera (JB):              211.897\n",
       "Skew:                           0.727   Prob(JB):                     9.71e-47\n",
       "Kurtosis:                       4.299   Cond. No.                         2.97\n",
       "==============================================================================\n",
       "\n",
       "Warnings:\n",
       "[1] Standard Errors assume that the covariance matrix of the errors is correctly specified.\n",
       "\"\"\""
      ]
     },
     "execution_count": 52,
     "metadata": {},
     "output_type": "execute_result"
    }
   ],
   "source": [
    "import statsmodels.api as sm\n",
    "\n",
    "# We need to add constant manually \n",
    "# in statsmodels' sm\n",
    "X = sm.add_constant(X)\n",
    "\n",
    "results = sm.OLS(Y, X).fit()\n",
    "\n",
    "results.summary()"
   ]
  },
  {
   "cell_type": "markdown",
   "metadata": {},
   "source": [
    "First notice that we added constant to our existing feature set using this code: `X = sm.add_constant(X)`. This is because, `statsmodels'` `fit()` function doesn't add constant by default as opposed to scikit-learn's fit() function."
   ]
  },
  {
   "cell_type": "markdown",
   "metadata": {},
   "source": [
    "Second, when we call the `summary()` function on the fitted ols model, it prints out a table full of some statistics. For example, in the upper side of the table we see statistics like R-squared, adjusted R-squared, F-statistic, Log-likelihood, AIC and BIC. Those are related with the goodness of fit of our model. "
   ]
  },
  {
   "cell_type": "markdown",
   "metadata": {},
   "source": [
    "Let's interpret the result we have after running the regression analysis. The topics we are about to touch are:\n",
    "* Statistical significance\n",
    "* t-test\n",
    "* p-value\n",
    "* Inference "
   ]
  },
  {
   "cell_type": "markdown",
   "metadata": {},
   "source": [
    "The individual coefficients are assessed based on their statistical significance and it is not guaranteed that estimated coefficient are statistically significant. Moreover, it is not a rare event to have statistically insignificant coefficient in the regression."
   ]
  },
  {
   "cell_type": "markdown",
   "metadata": {},
   "source": [
    "For an individual coefficient to be statistically significant, it must explain some variance in the dependent variable. To do that its value should be higher than its standard deviation. Generally speaking, there are two statistical tools that helps us to interpret whether the individual coefficient is statistically significant or not:\n",
    "* t-test\n",
    "* p-value"
   ]
  },
  {
   "cell_type": "markdown",
   "metadata": {},
   "source": [
    "**t-test** is used to determine if estimated coefficient is zero or not. The null hypothesis tells that the estimated coefficient is zero and the alternative hypothesis tells the other way round:"
   ]
  },
  {
   "cell_type": "markdown",
   "metadata": {},
   "source": [
    "$$ H_0: \\beta=0\\\\\n",
    "H_A: \\beta\\neq 0$$"
   ]
  },
  {
   "cell_type": "markdown",
   "metadata": {},
   "source": [
    "If $\\beta$ is zero, it indicates the statistical insignificance of the estimated coefficient. If $\\beta$ is greater than zero, it means that the estimated coefficient is statistically significant. In order to assess t-test result, we compare two things: `Critical value for t-test` and the `t-test value` we get from the regression analysis. "
   ]
  },
  {
   "cell_type": "markdown",
   "metadata": {},
   "source": [
    "If the t-test value is greater than critical value for t-test, then it implies that the individual coefficient is statistically significant. The critical value for t-test is determined based on the `degrees of freedom`, `df` for short. Degrees of freedom is  the number of parameters of a statistic that are free to vary. We have 2 estimated coefficient, which are free to vary. "
   ]
  },
  {
   "cell_type": "markdown",
   "metadata": {},
   "source": [
    "In the model output given above, the degree of freedom of our model is abbreviated as `Df Model`and it is 2. Based on the critical value table below, we have different values corresponding to the degrees of freedom of 2. Once we set our confidence interval to 95%, which is generally the conventional level, we have 2.920. Thus, let's check if we have any t-test result for estimated coefficient which is greater than the critical value of 2.920.\n",
    "\n",
    "* is_smoker"
   ]
  },
  {
   "cell_type": "markdown",
   "metadata": {},
   "source": [
    "<img src=\"../assets/t_test_critical_value.png\" alt=\"Critical Values for t-test\" style=\"width:400;height:600px;\">"
   ]
  },
  {
   "cell_type": "markdown",
   "metadata": {},
   "source": [
    "There is another way to interpret the statistical significance of the individual coefficients, which is `p-value`. It is easier way to apply. All we need to know is the significance level which is the complements of confidence interval. That is to say, suppose we are working with 95%, our corresponding significance level becomes 5%. In this case, if we have a p-value less than 0.05, then we accept the alternative hypothesis suggesting that the estimated coefficient is greater than zero, i.e it is statistically significant."
   ]
  },
  {
   "cell_type": "markdown",
   "metadata": {},
   "source": [
    "Briefly, we can conclude that only `is_smoker` have explanatory power (or statistically significant) on charges."
   ]
  },
  {
   "cell_type": "markdown",
   "metadata": {},
   "source": [
    "Now, we are ready to interpret the estimated coefficient. Firstly, as it is clear that only the statistically significant estimated coefficients can be interpreted. Simpy because, statistically insignificant variables does tell anything to us. Therefore `is_smoker` is the only one I will interpret. Accordingly, 1-unit increase in `is_smoker` leads to an increase in charges by 2.362e+04."
   ]
  },
  {
   "cell_type": "markdown",
   "metadata": {},
   "source": [
    "One of the most distinctive feature of linear regression is that it is a parametric approach and therefore it has certain assumption to satisfy. These assumptions should be met in order for estimated coefficients to be valid and test statistics associated with them to be reliable. These assumptions are called `Gauss Markov Assumptions`."
   ]
  },
  {
   "cell_type": "markdown",
   "metadata": {},
   "source": [
    "Thus, before interpreting the coefficient and running a predicting analysis, we should make sure that all these assuptions are satisfied. At this points, let's discuss the assumptions now:"
   ]
  },
  {
   "cell_type": "markdown",
   "metadata": {},
   "source": [
    "## 2.1. Assumptions"
   ]
  },
  {
   "cell_type": "markdown",
   "metadata": {},
   "source": [
    "* Linearity of the coefficients\n",
    "* Constant Variance (Homoscedasticity)\n",
    "* Low multicollinearity\n",
    "* Uncorrelated error terms\n",
    "* Independent variable should not be correlated with the errors\n",
    "* The error term should, on average, be zero "
   ]
  },
  {
   "cell_type": "markdown",
   "metadata": {},
   "source": [
    "## 2.1.1. Linearity of the coefficients "
   ]
  },
  {
   "cell_type": "markdown",
   "metadata": {},
   "source": [
    "The concept of linearity can sometimes be found confusing. Linearity in linear regression implies linearity in the coefficient not inthe variables. Linear regression can account for quadratic or cubic relationship between dependent and independent variables but by using linear coefficients. In mathematical terms:"
   ]
  },
  {
   "cell_type": "markdown",
   "metadata": {},
   "source": [
    "$$ y = \\beta_0 + \\beta_1x_1 + \\beta_2x_2^2 + \\epsilon $$"
   ]
  },
  {
   "cell_type": "markdown",
   "metadata": {},
   "source": [
    "We should not have something like this:"
   ]
  },
  {
   "cell_type": "markdown",
   "metadata": {},
   "source": [
    "$$ y = \\beta_0 + \\beta_1x_1 + \\beta_2^3x_2 + \\epsilon$$"
   ]
  },
  {
   "cell_type": "markdown",
   "metadata": {},
   "source": [
    "Let's briefly explain how regression explain non-linear relations. To this end, we use `linear_model` library from sklearn library, which is widely used Machine Learning library in Python. I first randomly generate X and Y values. The former represents independent variable and the latter denotes the dependent variable. Then, I calculate the third power and "
   ]
  },
  {
   "cell_type": "code",
   "execution_count": 24,
   "metadata": {},
   "outputs": [
    {
     "name": "stdout",
     "output_type": "stream",
     "text": [
      "\n",
      "Coefficients: \n",
      " [2. 3.]\n",
      "\n",
      "Intercept: \n",
      " 0.9999999997671694\n"
     ]
    },
    {
     "data": {
      "image/png": "[encoded data removed]",
      "text/plain": [
       "<Figure size 432x288 with 1 Axes>"
      ]
     },
     "metadata": {
      "needs_background": "light"
     },
     "output_type": "display_data"
    }
   ],
   "source": [
    "df = pd.DataFrame()\n",
    "\n",
    "# data from 0 to 999\n",
    "df[\"X\"] = np.arange(0,1000,1)\n",
    "# we take the square of X\n",
    "df[\"X_sq\"] = df[\"X\"]**2\n",
    "\n",
    "# this is our equation: Y = 1 + 2*X + 3*X^2\n",
    "df[\"Y\"] = 1 + 2*df[\"X\"] + 3*df[\"X_sq\"]\n",
    "\n",
    "# we fit a linear regression where target is Y\n",
    "# and features are X and X^2\n",
    "lrm_example = linear_model.LinearRegression()\n",
    "lrm_example.fit(df[[\"X\",\"X_sq\"]],df[\"Y\"])\n",
    "\n",
    "# predictions of the linear regression\n",
    "predictions = lrm_example.predict(df[[\"X\",\"X_sq\"]])\n",
    "\n",
    "# we print the estimated coefficients\n",
    "print('\\nCoefficients: \\n', lrm_example.coef_)\n",
    "print('\\nIntercept: \\n', lrm_example.intercept_)\n",
    "\n",
    "# we plot the estimated Y and X\n",
    "# the relationship should be quadratic\n",
    "plt.scatter(df[\"X\"], predictions)\n",
    "plt.xlabel(\"feature\")\n",
    "plt.ylabel(\"target\")\n",
    "plt.title('Linear regression can capture quadratic relationship')\n",
    "plt.show()"
   ]
  },
  {
   "cell_type": "markdown",
   "metadata": {},
   "source": [
    "It is readily observable that the relationship between X and Y is not linear and linear regression model is able to capture this non-linear relationship."
   ]
  },
  {
   "cell_type": "markdown",
   "metadata": {},
   "source": [
    "### 2.1.2. The error term should be zero on average"
   ]
  },
  {
   "cell_type": "markdown",
   "metadata": {},
   "source": [
    "This second assumption states that the expected value of the error term should be zero. In mathematical terms:"
   ]
  },
  {
   "cell_type": "markdown",
   "metadata": {},
   "source": [
    "$$\\mathbb{E}(\\epsilon)=0$$"
   ]
  },
  {
   "cell_type": "markdown",
   "metadata": {},
   "source": [
    "The 𝔼 symbol indicates the expectation operator. We can read it as \"the average of the error terms should be equal to zero\". Error term accounts for the variation in the target variable that is not explained by the features. So, ideally the error term shouldn't explain anything in the variation of the target variable but instead should be determined randomly. If the expected value of the error is different than zero, our model would become biased! For example, if  𝔼(ϵ)=−1, then it means that our model systematically overpredicts the target variable."
   ]
  },
  {
   "cell_type": "markdown",
   "metadata": {},
   "source": [
    "This assumption is not held if you forget to include the constant term in your model. This is why we said that you should always include a constant in your model. As long as we include a constant in a model, we shouldn't be worried about this assumption as the constant will force the error terms to be zero on average."
   ]
  },
  {
   "cell_type": "markdown",
   "metadata": {},
   "source": [
    "In our medical costs model, we can see this happening:"
   ]
  },
  {
   "cell_type": "code",
   "execution_count": 25,
   "metadata": {},
   "outputs": [
    {
     "name": "stdout",
     "output_type": "stream",
     "text": [
      "Mean of the errors in the medical costs model is: -5.804996078580574e-13\n"
     ]
    }
   ],
   "source": [
    "predictions = lrm.predict(X)\n",
    "errors = Y - predictions\n",
    "\n",
    "print(\"Mean of the errors in the medical costs model is: {}\".format(np.mean(errors)))"
   ]
  },
  {
   "cell_type": "markdown",
   "metadata": {},
   "source": [
    "### 2.1.3. Constant Variance"
   ]
  },
  {
   "cell_type": "markdown",
   "metadata": {},
   "source": [
    "In linear regression, the distribution of error terms should be consistent across all predicted values. In order to satisfy this, error variance should be constant, i.e. it should not systematically change across observations. If the error variance is constant across observations, it is called `homoscedasticity`. On the contrary, if the distribution of error variance varies across observations, it is called `heteroscedasticity`."
   ]
  },
  {
   "cell_type": "markdown",
   "metadata": {},
   "source": [
    "For example, if our error terms aren't consistently distributed and you have more variance in the error for large outcome values than for small ones, then the confidence interval for large predicted values will be too small because it will be based on the average error variance. This leads to overconfidence in the accuracy of our model's predictions.\n",
    "\n"
   ]
  },
  {
   "cell_type": "markdown",
   "metadata": {},
   "source": [
    "Let's checkout whether our medical costs model suffers from the heteroscedasticity by visualizing it:"
   ]
  },
  {
   "cell_type": "code",
   "execution_count": 27,
   "metadata": {},
   "outputs": [
    {
     "data": {
      "image/png": "[encoded data removed]",
      "text/plain": [
       "<Figure size 432x288 with 1 Axes>"
      ]
     },
     "metadata": {
      "needs_background": "light"
     },
     "output_type": "display_data"
    }
   ],
   "source": [
    "plt.scatter(predictions, errors)\n",
    "plt.xlabel('Predicted')\n",
    "plt.ylabel('Residual')\n",
    "plt.axhline(y=0)\n",
    "plt.title('Residual vs. Predicted')\n",
    "plt.show()"
   ]
  },
  {
   "cell_type": "markdown",
   "metadata": {},
   "source": [
    "It seems that the variances of the errors are higher for the higher values of the target variable. This implies that our error terms aren't homoscedastic. However, deriving conclusions from visuals is only an informal way of figuring out the problem. Thankfully, there are several formal statistical tests that we can use to determine whether there is heteroscedasticity in the error terms."
   ]
  },
  {
   "cell_type": "markdown",
   "metadata": {},
   "source": [
    "That's bad. It seems like we have heteroscedasticity problem here. There is also a scientific way to decide if the errors are heteroscedastic or not, which is called `Bartlett and Levene` test`."
   ]
  },
  {
   "cell_type": "code",
   "execution_count": 28,
   "metadata": {},
   "outputs": [],
   "source": [
    "from scipy.stats import bartlett\n",
    "from scipy.stats import levene\n",
    "\n",
    "bart_result = bartlett(predictions, errors)\n",
    "lev_result = levene(predictions, errors)\n",
    "\n"
   ]
  },
  {
   "cell_type": "code",
   "execution_count": 29,
   "metadata": {},
   "outputs": [
    {
     "name": "stdout",
     "output_type": "stream",
     "text": [
      "Bartlett test statistic value is 78.97850093174662 and p value is 6.27895290576492e-19\n",
      "Levene test statistic value is 6.8729429078752275 and p value is 0.008800645507789395\n"
     ]
    }
   ],
   "source": [
    "print(\"Bartlett test statistic value is {} and p value is {}\".format(bart_result[0], bart_result[1]))\n",
    "print(\"Levene test statistic value is {} and p value is {}\".format(lev_result[0], lev_result[1]))"
   ]
  },
  {
   "cell_type": "markdown",
   "metadata": {},
   "source": [
    "The result (p-value and test statistic) confirms that there is a heteroscedasticity as alternative hypothesis is accepted. The bad news is that, if any of the linear regression assumption fails, the result of the linear regression is not reliable any more. But, no worries, there is a statistical methods to get rid of it. One of them is `Box-Cox Transformation`. Please see this [document](https://scikit-learn.org/stable/modules/generated/sklearn.preprocessing.power_transform.html) to see the Box-Cox Transformation application in Python."
   ]
  },
  {
   "cell_type": "markdown",
   "metadata": {},
   "source": [
    "### 1.1.3. Multicollinearity"
   ]
  },
  {
   "cell_type": "markdown",
   "metadata": {},
   "source": [
    "To have the isolated effects of the independent variables on the dependent variable, there should not be high correlation between independent variables. Only week correlation between independent and dependent variables are allowed in linear regression. If high correlation among independent variables occurs, which is called `multicollinearity`, these highly correlated features can account for same pattern of variance in the dependent variable. The multicollinearity turns into a problem when we want to know the explanatory power of the independent variables as it underestimates the relationship between independent and dependent variables.\n",
    "\n"
   ]
  },
  {
   "cell_type": "markdown",
   "metadata": {},
   "source": [
    "There are two common ways to detect multicollinearity:\n",
    "    * Checking correlation coefficient\n",
    "    * Variance Inflation Factor"
   ]
  },
  {
   "cell_type": "markdown",
   "metadata": {},
   "source": [
    "As we discuss, high correlation is a signal for multicollinearity. So, the important question here is after what level of correlation, can it be called high correlation. "
   ]
  },
  {
   "cell_type": "markdown",
   "metadata": {},
   "source": [
    "As for the Variance Inflation Factor, VIF for short, the thresholds are given below:\n",
    "* If VIF=1, no correlation\n",
    "* 1< VIF> 5, moderately correlation\n",
    "* VIF>5, highly correlation   "
   ]
  },
  {
   "cell_type": "markdown",
   "metadata": {},
   "source": [
    "Let's first check the correlation table. But first we need to make a small adjustment. As we have constant term in X data frame, we need to get rid of it because it is not a variable just a constant in our regression model. The below given `.iloc()` does this."
   ]
  },
  {
   "cell_type": "code",
   "execution_count": 37,
   "metadata": {},
   "outputs": [
    {
     "data": {
      "text/html": [
       "<div>\n",
       "<style scoped>\n",
       "    .dataframe tbody tr th:only-of-type {\n",
       "        vertical-align: middle;\n",
       "    }\n",
       "\n",
       "    .dataframe tbody tr th {\n",
       "        vertical-align: top;\n",
       "    }\n",
       "\n",
       "    .dataframe thead th {\n",
       "        text-align: right;\n",
       "    }\n",
       "</style>\n",
       "<table border=\"1\" class=\"dataframe\">\n",
       "  <thead>\n",
       "    <tr style=\"text-align: right;\">\n",
       "      <th></th>\n",
       "      <th>age</th>\n",
       "      <th>sex</th>\n",
       "      <th>bmi</th>\n",
       "      <th>children</th>\n",
       "      <th>smoker</th>\n",
       "      <th>region</th>\n",
       "      <th>charges</th>\n",
       "      <th>is_male</th>\n",
       "      <th>is_smoker</th>\n",
       "    </tr>\n",
       "  </thead>\n",
       "  <tbody>\n",
       "    <tr>\n",
       "      <th>0</th>\n",
       "      <td>19</td>\n",
       "      <td>female</td>\n",
       "      <td>27.900</td>\n",
       "      <td>0</td>\n",
       "      <td>yes</td>\n",
       "      <td>southwest</td>\n",
       "      <td>16884.92400</td>\n",
       "      <td>0</td>\n",
       "      <td>1</td>\n",
       "    </tr>\n",
       "    <tr>\n",
       "      <th>1</th>\n",
       "      <td>18</td>\n",
       "      <td>male</td>\n",
       "      <td>33.770</td>\n",
       "      <td>1</td>\n",
       "      <td>no</td>\n",
       "      <td>southeast</td>\n",
       "      <td>1725.55230</td>\n",
       "      <td>1</td>\n",
       "      <td>0</td>\n",
       "    </tr>\n",
       "    <tr>\n",
       "      <th>2</th>\n",
       "      <td>28</td>\n",
       "      <td>male</td>\n",
       "      <td>33.000</td>\n",
       "      <td>3</td>\n",
       "      <td>no</td>\n",
       "      <td>southeast</td>\n",
       "      <td>4449.46200</td>\n",
       "      <td>1</td>\n",
       "      <td>0</td>\n",
       "    </tr>\n",
       "    <tr>\n",
       "      <th>3</th>\n",
       "      <td>33</td>\n",
       "      <td>male</td>\n",
       "      <td>22.705</td>\n",
       "      <td>0</td>\n",
       "      <td>no</td>\n",
       "      <td>northwest</td>\n",
       "      <td>21984.47061</td>\n",
       "      <td>1</td>\n",
       "      <td>0</td>\n",
       "    </tr>\n",
       "    <tr>\n",
       "      <th>4</th>\n",
       "      <td>32</td>\n",
       "      <td>male</td>\n",
       "      <td>28.880</td>\n",
       "      <td>0</td>\n",
       "      <td>no</td>\n",
       "      <td>northwest</td>\n",
       "      <td>3866.85520</td>\n",
       "      <td>1</td>\n",
       "      <td>0</td>\n",
       "    </tr>\n",
       "    <tr>\n",
       "      <th>...</th>\n",
       "      <td>...</td>\n",
       "      <td>...</td>\n",
       "      <td>...</td>\n",
       "      <td>...</td>\n",
       "      <td>...</td>\n",
       "      <td>...</td>\n",
       "      <td>...</td>\n",
       "      <td>...</td>\n",
       "      <td>...</td>\n",
       "    </tr>\n",
       "    <tr>\n",
       "      <th>1333</th>\n",
       "      <td>50</td>\n",
       "      <td>male</td>\n",
       "      <td>30.970</td>\n",
       "      <td>3</td>\n",
       "      <td>no</td>\n",
       "      <td>northwest</td>\n",
       "      <td>10600.54830</td>\n",
       "      <td>1</td>\n",
       "      <td>0</td>\n",
       "    </tr>\n",
       "    <tr>\n",
       "      <th>1334</th>\n",
       "      <td>18</td>\n",
       "      <td>female</td>\n",
       "      <td>31.920</td>\n",
       "      <td>0</td>\n",
       "      <td>no</td>\n",
       "      <td>northeast</td>\n",
       "      <td>2205.98080</td>\n",
       "      <td>0</td>\n",
       "      <td>0</td>\n",
       "    </tr>\n",
       "    <tr>\n",
       "      <th>1335</th>\n",
       "      <td>18</td>\n",
       "      <td>female</td>\n",
       "      <td>36.850</td>\n",
       "      <td>0</td>\n",
       "      <td>no</td>\n",
       "      <td>southeast</td>\n",
       "      <td>1629.83350</td>\n",
       "      <td>0</td>\n",
       "      <td>0</td>\n",
       "    </tr>\n",
       "    <tr>\n",
       "      <th>1336</th>\n",
       "      <td>21</td>\n",
       "      <td>female</td>\n",
       "      <td>25.800</td>\n",
       "      <td>0</td>\n",
       "      <td>no</td>\n",
       "      <td>southwest</td>\n",
       "      <td>2007.94500</td>\n",
       "      <td>0</td>\n",
       "      <td>0</td>\n",
       "    </tr>\n",
       "    <tr>\n",
       "      <th>1337</th>\n",
       "      <td>61</td>\n",
       "      <td>female</td>\n",
       "      <td>29.070</td>\n",
       "      <td>0</td>\n",
       "      <td>yes</td>\n",
       "      <td>northwest</td>\n",
       "      <td>29141.36030</td>\n",
       "      <td>0</td>\n",
       "      <td>1</td>\n",
       "    </tr>\n",
       "  </tbody>\n",
       "</table>\n",
       "<p>1338 rows × 9 columns</p>\n",
       "</div>"
      ],
      "text/plain": [
       "      age     sex     bmi  children smoker     region      charges  is_male  \\\n",
       "0      19  female  27.900         0    yes  southwest  16884.92400        0   \n",
       "1      18    male  33.770         1     no  southeast   1725.55230        1   \n",
       "2      28    male  33.000         3     no  southeast   4449.46200        1   \n",
       "3      33    male  22.705         0     no  northwest  21984.47061        1   \n",
       "4      32    male  28.880         0     no  northwest   3866.85520        1   \n",
       "...   ...     ...     ...       ...    ...        ...          ...      ...   \n",
       "1333   50    male  30.970         3     no  northwest  10600.54830        1   \n",
       "1334   18  female  31.920         0     no  northeast   2205.98080        0   \n",
       "1335   18  female  36.850         0     no  southeast   1629.83350        0   \n",
       "1336   21  female  25.800         0     no  southwest   2007.94500        0   \n",
       "1337   61  female  29.070         0    yes  northwest  29141.36030        0   \n",
       "\n",
       "      is_smoker  \n",
       "0             1  \n",
       "1             0  \n",
       "2             0  \n",
       "3             0  \n",
       "4             0  \n",
       "...         ...  \n",
       "1333          0  \n",
       "1334          0  \n",
       "1335          0  \n",
       "1336          0  \n",
       "1337          1  \n",
       "\n",
       "[1338 rows x 9 columns]"
      ]
     },
     "execution_count": 37,
     "metadata": {},
     "output_type": "execute_result"
    }
   ],
   "source": [
    "insurance_df"
   ]
  },
  {
   "cell_type": "markdown",
   "metadata": {},
   "source": [
    "Well, as the only continuous variable in the dataset is `bmi`, there is unlikely to have a multicollinearity."
   ]
  },
  {
   "cell_type": "markdown",
   "metadata": {},
   "source": [
    "### 1.1.4. Uncorrelated Error Term"
   ]
  },
  {
   "cell_type": "markdown",
   "metadata": {},
   "source": [
    "Error terms cannot be predictable. They should be independently distributed. Shortly, errors terms should be uncorrelated with each other. If there is a correlation between error terms, it is called `serial correlation`. Serial correlation arise if we omit an independent variable, which has an explanatory power on the dependent variable."
   ]
  },
  {
   "cell_type": "markdown",
   "metadata": {},
   "source": [
    "In order to detect if the error term is uncorrelated, visualization may be good option. The graph of error term should fluctuates around zero. Alternatively, we apply `autocorrelation function` telling us correlation among the lag values of the variable."
   ]
  },
  {
   "cell_type": "code",
   "execution_count": 43,
   "metadata": {},
   "outputs": [
    {
     "data": {
      "image/png": "[encoded data removed]",
      "text/plain": [
       "<Figure size 432x288 with 1 Axes>"
      ]
     },
     "metadata": {
      "needs_background": "light"
     },
     "output_type": "display_data"
    }
   ],
   "source": [
    "plt.plot(errors)\n",
    "plt.show()"
   ]
  },
  {
   "cell_type": "markdown",
   "metadata": {},
   "source": [
    "Here, by eyeballing, it is readily observable that error term fluctuates around zero with no trend. Let's check the autocorrelation function and interpret the result."
   ]
  },
  {
   "cell_type": "code",
   "execution_count": 44,
   "metadata": {},
   "outputs": [
    {
     "data": {
      "image/png": "[encoded data removed]",
      "text/plain": [
       "<Figure size 432x288 with 1 Axes>"
      ]
     },
     "metadata": {
      "needs_background": "light"
     },
     "output_type": "display_data"
    }
   ],
   "source": [
    "from statsmodels.tsa.stattools import acf\n",
    "\n",
    "acf_data = acf(errors)\n",
    "\n",
    "plt.plot(acf_data)\n",
    "plt.show()"
   ]
  },
  {
   "cell_type": "markdown",
   "metadata": {},
   "source": [
    "If the `autocorrelation function` (acf) decays fast, it implies that error term is stationary, i.e there is no serial correlation among error terms. The acf graph above exhibits that after five lag, it turns out that autocorrelation function approaches zero and stays there constantly. This confirms that there is no serial autocorrelation."
   ]
  },
  {
   "cell_type": "markdown",
   "metadata": {},
   "source": [
    "## 1.1.5. Independent variable should not be correlated with the errors"
   ]
  },
  {
   "cell_type": "markdown",
   "metadata": {},
   "source": [
    "Error should not be correlated with independent variables. Because any correlation between these two implies that there is a omitted variable problem. In other words, a variable needs to be included in the regression is represented in the error term and this leads to a bias. This assumption is known as the `exogeneity`."
   ]
  },
  {
   "cell_type": "markdown",
   "metadata": {},
   "source": [
    "Potential sources of exogeneity may be:\n",
    "* Omitted variables and \n",
    "* Simultaneous causation between independent variables and the target."
   ]
  },
  {
   "cell_type": "markdown",
   "metadata": {},
   "source": [
    "# Conclusion"
   ]
  },
  {
   "cell_type": "markdown",
   "metadata": {},
   "source": [
    "As a widely accepted and employed tool, regression analysis is our very first modeling tool. As we discuss throughout the lesson, it has applicable to wide range of areas. Even if it an old technique, we still see that this model is prefered by top researchers. Now, it is your time to explore this model more."
   ]
  }
 ],
 "metadata": {
  "kernelspec": {
   "display_name": "Python 3",
   "language": "python",
   "name": "python3"
  },
  "language_info": {
   "codemirror_mode": {
    "name": "ipython",
    "version": 3
   },
   "file_extension": ".py",
   "mimetype": "text/x-python",
   "name": "python",
   "nbconvert_exporter": "python",
   "pygments_lexer": "ipython3",
   "version": "3.7.3"
  }
 },
 "nbformat": 4,
 "nbformat_minor": 4
}
