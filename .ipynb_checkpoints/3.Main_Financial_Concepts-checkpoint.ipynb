{
 "cells": [
  {
   "cell_type": "markdown",
   "metadata": {},
   "source": [
    "# 2. Main Financial Concepts\n",
    "## Abdullah Karasan"
   ]
  },
  {
   "cell_type": "markdown",
   "metadata": {},
   "source": [
    "In this part of the lesson, we will go through the main financial concepts, which are:\n",
    "    * Risk\n",
    "    * Return\n",
    "    * Covariance\n",
    "    * Correlation\n",
    "    * Risk-Return Relation"
   ]
  },
  {
   "cell_type": "markdown",
   "metadata": {},
   "source": [
    "## 2.1. Risk"
   ]
  },
  {
   "cell_type": "markdown",
   "metadata": {},
   "source": [
    "Financial risk can be defined as the possibility of losing money on an investment. Risk arises as a result of exposure. "
   ]
  },
  {
   "cell_type": "markdown",
   "metadata": {},
   "source": [
    "Exposure to financial markets affects most organizations, either directly or indirectly. When an organization has financial market exposure, there is a possibility of loss but also an opportunity for gain or profit. Financial market exposure may provide strategic or competitive benefits."
   ]
  },
  {
   "cell_type": "markdown",
   "metadata": {},
   "source": [
    "As you can note that there is no general consensus on the definition of risk. However, these definitions focus on the downside of the risk implying that cost goes hand in hand with risk but it should be noted that there is no necessarily one-to-one relationship among them."
   ]
  },
  {
   "cell_type": "markdown",
   "metadata": {},
   "source": [
    "## 2.2. Return"
   ]
  },
  {
   "cell_type": "markdown",
   "metadata": {},
   "source": [
    "All financial investments are undertaken to gain profit, which is also called return. More formally, return is the gain made on an investment in a  given period of time. Thus, return refers to the upside of the risk. Throughout the book, risk and return will refer to downside and upside risk, respectively."
   ]
  },
  {
   "cell_type": "markdown",
   "metadata": {},
   "source": [
    "Mathematically, return can be defined as:"
   ]
  },
  {
   "cell_type": "markdown",
   "metadata": {},
   "source": [
    "$$r=\\frac{P_t-P_{t-1}}{P_{t-1}}$$"
   ]
  },
  {
   "cell_type": "code",
   "execution_count": 18,
   "metadata": {},
   "outputs": [],
   "source": [
    "import numpy as np\n",
    "import pandas as pd"
   ]
  },
  {
   "cell_type": "code",
   "execution_count": 34,
   "metadata": {},
   "outputs": [
    {
     "data": {
      "text/html": [
       "<div>\n",
       "<style scoped>\n",
       "    .dataframe tbody tr th:only-of-type {\n",
       "        vertical-align: middle;\n",
       "    }\n",
       "\n",
       "    .dataframe tbody tr th {\n",
       "        vertical-align: top;\n",
       "    }\n",
       "\n",
       "    .dataframe thead th {\n",
       "        text-align: right;\n",
       "    }\n",
       "</style>\n",
       "<table border=\"1\" class=\"dataframe\">\n",
       "  <thead>\n",
       "    <tr style=\"text-align: right;\">\n",
       "      <th></th>\n",
       "      <th>0</th>\n",
       "    </tr>\n",
       "  </thead>\n",
       "  <tbody>\n",
       "    <tr>\n",
       "      <th>0</th>\n",
       "      <td>0.567564</td>\n",
       "    </tr>\n",
       "    <tr>\n",
       "      <th>1</th>\n",
       "      <td>0.658197</td>\n",
       "    </tr>\n",
       "    <tr>\n",
       "      <th>2</th>\n",
       "      <td>0.140153</td>\n",
       "    </tr>\n",
       "    <tr>\n",
       "      <th>3</th>\n",
       "      <td>0.351224</td>\n",
       "    </tr>\n",
       "    <tr>\n",
       "      <th>4</th>\n",
       "      <td>0.331324</td>\n",
       "    </tr>\n",
       "    <tr>\n",
       "      <th>...</th>\n",
       "      <td>...</td>\n",
       "    </tr>\n",
       "    <tr>\n",
       "      <th>95</th>\n",
       "      <td>0.524945</td>\n",
       "    </tr>\n",
       "    <tr>\n",
       "      <th>96</th>\n",
       "      <td>0.256859</td>\n",
       "    </tr>\n",
       "    <tr>\n",
       "      <th>97</th>\n",
       "      <td>0.981293</td>\n",
       "    </tr>\n",
       "    <tr>\n",
       "      <th>98</th>\n",
       "      <td>0.326276</td>\n",
       "    </tr>\n",
       "    <tr>\n",
       "      <th>99</th>\n",
       "      <td>0.582496</td>\n",
       "    </tr>\n",
       "  </tbody>\n",
       "</table>\n",
       "<p>100 rows × 1 columns</p>\n",
       "</div>"
      ],
      "text/plain": [
       "           0\n",
       "0   0.567564\n",
       "1   0.658197\n",
       "2   0.140153\n",
       "3   0.351224\n",
       "4   0.331324\n",
       "..       ...\n",
       "95  0.524945\n",
       "96  0.256859\n",
       "97  0.981293\n",
       "98  0.326276\n",
       "99  0.582496\n",
       "\n",
       "[100 rows x 1 columns]"
      ]
     },
     "execution_count": 34,
     "metadata": {},
     "output_type": "execute_result"
    }
   ],
   "source": [
    "data=np.random.rand(1,100)\n",
    "df_data=pd.DataFrame(data).T\n",
    "df_data"
   ]
  },
  {
   "cell_type": "code",
   "execution_count": 43,
   "metadata": {},
   "outputs": [
    {
     "data": {
      "text/html": [
       "<div>\n",
       "<style scoped>\n",
       "    .dataframe tbody tr th:only-of-type {\n",
       "        vertical-align: middle;\n",
       "    }\n",
       "\n",
       "    .dataframe tbody tr th {\n",
       "        vertical-align: top;\n",
       "    }\n",
       "\n",
       "    .dataframe thead th {\n",
       "        text-align: right;\n",
       "    }\n",
       "</style>\n",
       "<table border=\"1\" class=\"dataframe\">\n",
       "  <thead>\n",
       "    <tr style=\"text-align: right;\">\n",
       "      <th></th>\n",
       "      <th>0</th>\n",
       "    </tr>\n",
       "  </thead>\n",
       "  <tbody>\n",
       "    <tr>\n",
       "      <th>0</th>\n",
       "      <td>NaN</td>\n",
       "    </tr>\n",
       "    <tr>\n",
       "      <th>1</th>\n",
       "      <td>0.148151</td>\n",
       "    </tr>\n",
       "    <tr>\n",
       "      <th>2</th>\n",
       "      <td>-1.546769</td>\n",
       "    </tr>\n",
       "    <tr>\n",
       "      <th>3</th>\n",
       "      <td>0.918687</td>\n",
       "    </tr>\n",
       "    <tr>\n",
       "      <th>4</th>\n",
       "      <td>-0.058327</td>\n",
       "    </tr>\n",
       "    <tr>\n",
       "      <th>...</th>\n",
       "      <td>...</td>\n",
       "    </tr>\n",
       "    <tr>\n",
       "      <th>95</th>\n",
       "      <td>0.834236</td>\n",
       "    </tr>\n",
       "    <tr>\n",
       "      <th>96</th>\n",
       "      <td>-0.714767</td>\n",
       "    </tr>\n",
       "    <tr>\n",
       "      <th>97</th>\n",
       "      <td>1.340345</td>\n",
       "    </tr>\n",
       "    <tr>\n",
       "      <th>98</th>\n",
       "      <td>-1.101128</td>\n",
       "    </tr>\n",
       "    <tr>\n",
       "      <th>99</th>\n",
       "      <td>0.579579</td>\n",
       "    </tr>\n",
       "  </tbody>\n",
       "</table>\n",
       "<p>100 rows × 1 columns</p>\n",
       "</div>"
      ],
      "text/plain": [
       "           0\n",
       "0        NaN\n",
       "1   0.148151\n",
       "2  -1.546769\n",
       "3   0.918687\n",
       "4  -0.058327\n",
       "..       ...\n",
       "95  0.834236\n",
       "96 -0.714767\n",
       "97  1.340345\n",
       "98 -1.101128\n",
       "99  0.579579\n",
       "\n",
       "[100 rows x 1 columns]"
      ]
     },
     "execution_count": 43,
     "metadata": {},
     "output_type": "execute_result"
    }
   ],
   "source": [
    "np.log(df_data) - np.log(df_data.shift(1))"
   ]
  },
  {
   "cell_type": "markdown",
   "metadata": {},
   "source": [
    "One of the advantage to use log returns is that if we assume that prices are distributed log normally, then `log(1 + r_i)` is conveniently normally distributed."
   ]
  },
  {
   "cell_type": "markdown",
   "metadata": {},
   "source": [
    "## 2.3. Covariance"
   ]
  },
  {
   "cell_type": "markdown",
   "metadata": {},
   "source": [
    "Covariance is a measure for detecting the extent to which two random variables jointly vary. Covariance allows us to quantify the degree of dependence of two random variables."
   ]
  },
  {
   "cell_type": "markdown",
   "metadata": {},
   "source": [
    "The covariance between random variables X and Y can be defined as:"
   ]
  },
  {
   "cell_type": "markdown",
   "metadata": {},
   "source": [
    "$$Cov(X,Y)=\\mathbb{E}[(X-\\mu_X)(Y-\\mu_Y)]$$\n",
    "or\n",
    "$$Cov(X,Y)=\\mathbb{E}(XY)-\\mu_X\\mu_Y$$"
   ]
  },
  {
   "cell_type": "markdown",
   "metadata": {},
   "source": [
    "where $\\mu_X \\text{ and } \\mu_Y$ are the means of the random variables X and Y, respectively."
   ]
  },
  {
   "cell_type": "markdown",
   "metadata": {},
   "source": [
    "* A covariance,$\\sigma_{XY}$, of 0 indicates that X and Y are unrelated\n",
    "* A covariance greater than 0 indicates that X and Y are positively unrelated\n",
    "* A covariance less than 0 indicates that X and Y are negatively related"
   ]
  },
  {
   "cell_type": "markdown",
   "metadata": {},
   "source": [
    "Let's make a practice about calculating the covariance. For this purpose, I will use `Tips` dataset, which is in `seaborn` module and it has 7 columns."
   ]
  },
  {
   "cell_type": "code",
   "execution_count": 21,
   "metadata": {},
   "outputs": [],
   "source": [
    "import numpy as np\n",
    "import seaborn as sns\n",
    "import matplotlib.pyplot as plt"
   ]
  },
  {
   "cell_type": "code",
   "execution_count": 7,
   "metadata": {},
   "outputs": [],
   "source": [
    "tips= sns.load_dataset('tips')"
   ]
  },
  {
   "cell_type": "code",
   "execution_count": 8,
   "metadata": {},
   "outputs": [
    {
     "data": {
      "text/html": [
       "<div>\n",
       "<style scoped>\n",
       "    .dataframe tbody tr th:only-of-type {\n",
       "        vertical-align: middle;\n",
       "    }\n",
       "\n",
       "    .dataframe tbody tr th {\n",
       "        vertical-align: top;\n",
       "    }\n",
       "\n",
       "    .dataframe thead th {\n",
       "        text-align: right;\n",
       "    }\n",
       "</style>\n",
       "<table border=\"1\" class=\"dataframe\">\n",
       "  <thead>\n",
       "    <tr style=\"text-align: right;\">\n",
       "      <th></th>\n",
       "      <th>total_bill</th>\n",
       "      <th>tip</th>\n",
       "      <th>sex</th>\n",
       "      <th>smoker</th>\n",
       "      <th>day</th>\n",
       "      <th>time</th>\n",
       "      <th>size</th>\n",
       "    </tr>\n",
       "  </thead>\n",
       "  <tbody>\n",
       "    <tr>\n",
       "      <th>0</th>\n",
       "      <td>16.99</td>\n",
       "      <td>1.01</td>\n",
       "      <td>Female</td>\n",
       "      <td>No</td>\n",
       "      <td>Sun</td>\n",
       "      <td>Dinner</td>\n",
       "      <td>2</td>\n",
       "    </tr>\n",
       "    <tr>\n",
       "      <th>1</th>\n",
       "      <td>10.34</td>\n",
       "      <td>1.66</td>\n",
       "      <td>Male</td>\n",
       "      <td>No</td>\n",
       "      <td>Sun</td>\n",
       "      <td>Dinner</td>\n",
       "      <td>3</td>\n",
       "    </tr>\n",
       "    <tr>\n",
       "      <th>2</th>\n",
       "      <td>21.01</td>\n",
       "      <td>3.50</td>\n",
       "      <td>Male</td>\n",
       "      <td>No</td>\n",
       "      <td>Sun</td>\n",
       "      <td>Dinner</td>\n",
       "      <td>3</td>\n",
       "    </tr>\n",
       "    <tr>\n",
       "      <th>3</th>\n",
       "      <td>23.68</td>\n",
       "      <td>3.31</td>\n",
       "      <td>Male</td>\n",
       "      <td>No</td>\n",
       "      <td>Sun</td>\n",
       "      <td>Dinner</td>\n",
       "      <td>2</td>\n",
       "    </tr>\n",
       "    <tr>\n",
       "      <th>4</th>\n",
       "      <td>24.59</td>\n",
       "      <td>3.61</td>\n",
       "      <td>Female</td>\n",
       "      <td>No</td>\n",
       "      <td>Sun</td>\n",
       "      <td>Dinner</td>\n",
       "      <td>4</td>\n",
       "    </tr>\n",
       "  </tbody>\n",
       "</table>\n",
       "</div>"
      ],
      "text/plain": [
       "   total_bill   tip     sex smoker  day    time  size\n",
       "0       16.99  1.01  Female     No  Sun  Dinner     2\n",
       "1       10.34  1.66    Male     No  Sun  Dinner     3\n",
       "2       21.01  3.50    Male     No  Sun  Dinner     3\n",
       "3       23.68  3.31    Male     No  Sun  Dinner     2\n",
       "4       24.59  3.61  Female     No  Sun  Dinner     4"
      ]
     },
     "execution_count": 8,
     "metadata": {},
     "output_type": "execute_result"
    }
   ],
   "source": [
    "tips.head()"
   ]
  },
  {
   "cell_type": "code",
   "execution_count": 9,
   "metadata": {},
   "outputs": [
    {
     "data": {
      "text/plain": [
       "array([[79.25293861,  8.32350163],\n",
       "       [ 8.32350163,  1.91445464]])"
      ]
     },
     "execution_count": 9,
     "metadata": {},
     "output_type": "execute_result"
    }
   ],
   "source": [
    "np.cov(tips.total_bill,tips.tip)"
   ]
  },
  {
   "cell_type": "markdown",
   "metadata": {},
   "source": [
    "Note that off-diagonal elements  shows the covariance between total bill and tips, which is 8.32. The diagonal entries, on the other hand, indicates the variance of total bill and of tips, which are 79.25 and 1.91."
   ]
  },
  {
   "cell_type": "markdown",
   "metadata": {},
   "source": [
    "For more information for the `numpy.cov()` module, please refer to this [website](https://numpy.org/doc/stable/reference/generated/numpy.cov.html)."
   ]
  },
  {
   "cell_type": "markdown",
   "metadata": {},
   "source": [
    "## 2.4. Correlation"
   ]
  },
  {
   "cell_type": "markdown",
   "metadata": {},
   "source": [
    "Corelation can be thought of as a normalized version of covariance so that correlation measures both strength and direction of the linear relationship between two random variables. Whereas covariance reflects the units of both random variables. "
   ]
  },
  {
   "cell_type": "markdown",
   "metadata": {},
   "source": [
    "Correlation coefficient, $\\rho$, tells is the characteristics of the relationship. $\\rho$ takes on values between -1 and 1."
   ]
  },
  {
   "cell_type": "markdown",
   "metadata": {},
   "source": [
    "* If $\\rho_{XY}$>0, then X and Y are positively correlated\n",
    "* If $\\rho_{XY}$<0, then X and Y are negatively correlated\n",
    "* If $\\rho_{XY}$=0, then X and Y are unlinearly correlated (Maybe correlated in higher dimensions)\n",
    "* If $\\rho_{XY}$=1, then X and Y are perfectly positively correlated\n",
    "* If $\\rho_{XY}$=-1, then X and Y are perfectly negatively correlated\n"
   ]
  },
  {
   "cell_type": "markdown",
   "metadata": {},
   "source": [
    "For the sake of practice, I will again use the `tips` dataset but this time we have many more option to explore the correlation in Python."
   ]
  },
  {
   "cell_type": "code",
   "execution_count": 13,
   "metadata": {},
   "outputs": [
    {
     "data": {
      "text/html": [
       "<div>\n",
       "<style scoped>\n",
       "    .dataframe tbody tr th:only-of-type {\n",
       "        vertical-align: middle;\n",
       "    }\n",
       "\n",
       "    .dataframe tbody tr th {\n",
       "        vertical-align: top;\n",
       "    }\n",
       "\n",
       "    .dataframe thead th {\n",
       "        text-align: right;\n",
       "    }\n",
       "</style>\n",
       "<table border=\"1\" class=\"dataframe\">\n",
       "  <thead>\n",
       "    <tr style=\"text-align: right;\">\n",
       "      <th></th>\n",
       "      <th>total_bill</th>\n",
       "      <th>tip</th>\n",
       "      <th>size</th>\n",
       "    </tr>\n",
       "  </thead>\n",
       "  <tbody>\n",
       "    <tr>\n",
       "      <th>total_bill</th>\n",
       "      <td>1.000000</td>\n",
       "      <td>0.675734</td>\n",
       "      <td>0.598315</td>\n",
       "    </tr>\n",
       "    <tr>\n",
       "      <th>tip</th>\n",
       "      <td>0.675734</td>\n",
       "      <td>1.000000</td>\n",
       "      <td>0.489299</td>\n",
       "    </tr>\n",
       "    <tr>\n",
       "      <th>size</th>\n",
       "      <td>0.598315</td>\n",
       "      <td>0.489299</td>\n",
       "      <td>1.000000</td>\n",
       "    </tr>\n",
       "  </tbody>\n",
       "</table>\n",
       "</div>"
      ],
      "text/plain": [
       "            total_bill       tip      size\n",
       "total_bill    1.000000  0.675734  0.598315\n",
       "tip           0.675734  1.000000  0.489299\n",
       "size          0.598315  0.489299  1.000000"
      ]
     },
     "execution_count": 13,
     "metadata": {},
     "output_type": "execute_result"
    }
   ],
   "source": [
    "tips.corr()"
   ]
  },
  {
   "cell_type": "markdown",
   "metadata": {},
   "source": [
    "Off-diagonal elements exhibits the correlation between numerical columns in the `tips` dataset. Accordingly, the correlation between `tip` and `total_bill` is the highest."
   ]
  },
  {
   "cell_type": "markdown",
   "metadata": {},
   "source": [
    "`Seaborn` has a fancy tool for displaying the correlation called `heatmap`. For the sake of easiness, `annot=True` argument can be used."
   ]
  },
  {
   "cell_type": "code",
   "execution_count": 24,
   "metadata": {},
   "outputs": [
    {
     "data": {
      "image/png": "[encoded data removed]",
      "text/plain": [
       "<Figure size 720x432 with 2 Axes>"
      ]
     },
     "metadata": {
      "needs_background": "light"
     },
     "output_type": "display_data"
    }
   ],
   "source": [
    "plt.figure(figsize=(10,6))\n",
    "sns.heatmap(tips.corr(),annot = True)\n",
    "plt.show()"
   ]
  },
  {
   "cell_type": "markdown",
   "metadata": {},
   "source": [
    "I can rescaling the color bar by using three arguments: \n",
    "* `vmin`, which is the minimum value of the bar;\n",
    "* `vmax`, which is the maximum value of the bar; and \n",
    "* `center` "
   ]
  },
  {
   "cell_type": "code",
   "execution_count": 23,
   "metadata": {},
   "outputs": [
    {
     "data": {
      "image/png": "[encoded data removed]",
      "text/plain": [
       "<Figure size 720x432 with 2 Axes>"
      ]
     },
     "metadata": {
      "needs_background": "light"
     },
     "output_type": "display_data"
    }
   ],
   "source": [
    "plt.figure(figsize=(10,6))\n",
    "sns.heatmap(tips.corr(), annot = True, vmin=-1, vmax=1, center= 0)\n",
    "plt.show()"
   ]
  },
  {
   "cell_type": "markdown",
   "metadata": {},
   "source": [
    "## 2.5. Risk-Return Relation"
   ]
  },
  {
   "cell_type": "markdown",
   "metadata": {},
   "source": [
    "The ultimate aim of investments is to get positive return and return is the gain made on an investment in a  given period of time. As you can imagine, there is a trade-off between risk and return, that is to say the higher risk assumed, the greater the return realized. As it is a formidable task to come up with a optimum solution, this trade-off is one of the most controversial issues in finance."
   ]
  },
  {
   "cell_type": "markdown",
   "metadata": {},
   "source": [
    "Investors prefer the get positive return at the expense of the lowest risk. At a given level of risk, the investment with highest level of return is the best choice. Let's try to understand the risk-return relationship via interactive plot in Python."
   ]
  },
  {
   "cell_type": "code",
   "execution_count": 61,
   "metadata": {},
   "outputs": [],
   "source": [
    "import statsmodels.api as sm\n",
    "import plotly.graph_objs as go\n",
    "import matplotlib.pyplot as plt\n",
    "import plotly\n",
    "import warnings\n",
    "warnings.filterwarnings('ignore')"
   ]
  },
  {
   "cell_type": "code",
   "execution_count": 62,
   "metadata": {},
   "outputs": [],
   "source": [
    "n_assets=5\n",
    "n_simulation=500"
   ]
  },
  {
   "cell_type": "code",
   "execution_count": 96,
   "metadata": {},
   "outputs": [],
   "source": [
    "returns=np.random.randn(n_assets, n_simulation)"
   ]
  },
  {
   "cell_type": "code",
   "execution_count": 97,
   "metadata": {},
   "outputs": [],
   "source": [
    "random = np.random.rand(n_assets)\n",
    "weights=random/sum(random)\n",
    "def exp_port_return(returns):\n",
    "    rets=np.mean(returns,axis=1) \n",
    "    cov=np.cov(rets.T, aweights=weights, ddof=0)\n",
    "    portfolio_returns= np.dot(weights,rets.T)\n",
    "    portfolio_std_dev=np.sqrt(np.dot(weights,np.dot(cov, weights)))\n",
    "    return portfolio_returns,portfolio_std_dev"
   ]
  },
  {
   "cell_type": "code",
   "execution_count": 98,
   "metadata": {},
   "outputs": [],
   "source": [
    "portfolio_returns,portfolio_std_dev=exp_port_return(returns)"
   ]
  },
  {
   "cell_type": "code",
   "execution_count": 99,
   "metadata": {},
   "outputs": [
    {
     "name": "stdout",
     "output_type": "stream",
     "text": [
      "-0.026208337156569127\n",
      "0.01527921154483106\n"
     ]
    }
   ],
   "source": [
    "print(portfolio_returns)\n",
    "print(portfolio_std_dev)"
   ]
  },
  {
   "cell_type": "code",
   "execution_count": 100,
   "metadata": {},
   "outputs": [],
   "source": [
    "portfolio=np.array([exp_port_return(np.random.randn(5, i)) for i in range(1,101)])"
   ]
  },
  {
   "cell_type": "code",
   "execution_count": 101,
   "metadata": {},
   "outputs": [],
   "source": [
    "best_fit=sm.OLS(portfolio[:,1],sm.add_constant(portfolio[:,0])).fit().fittedvalues"
   ]
  },
  {
   "cell_type": "code",
   "execution_count": 102,
   "metadata": {
    "scrolled": true
   },
   "outputs": [
    {
     "data": {
      "application/vnd.plotly.v1+json": {
       "config": {
        "plotlyServerURL": "https://plotly.com"
       },
       "data": [
        {
         "mode": "markers",
         "name": "Risk-Return Relationship",
         "type": "scatter",
         "x": [
          1.0458723671248178,
          0.27211350997186506,
          0.016008653910054793,
          -0.12628118445189596,
          -0.16712978212274135,
          -0.27248920778378116,
          -0.21655407454166242,
          0.18169724296720552,
          -0.1903885360487984,
          -0.015676477208794976,
          0.21127767625826935,
          -0.00594945269964417,
          0.029074531616218386,
          -0.13355442194582345,
          -0.07814560911182664,
          0.05157586167413791,
          -0.12631484709368634,
          0.10694321823066005,
          0.11273478577171324,
          -0.08181313057510842,
          0.07781357249127699,
          -0.10646410871637475,
          -0.08168014094100529,
          -0.08218293490082057,
          0.03731287814757317,
          -0.14725682620196767,
          -0.03137024343611605,
          -0.07242127891866934,
          -0.031871195362004404,
          -0.007432710031958788,
          0.09200484204003914,
          0.006414583398526456,
          -0.06360607933466941,
          0.03289411945771449,
          0.13869347521774436,
          -0.04119895217734694,
          0.03028892053488203,
          0.06017047091951254,
          0.025429703919548637,
          -0.0868758012612009,
          -0.1071983327099483,
          0.0840131978139846,
          0.14590265458262291,
          -0.03499586286234084,
          0.0127986183743301,
          0.04851509601334514,
          -0.061241458790809014,
          0.037921251216794356,
          0.0588157546770039,
          -0.00933509931096321,
          0.0029654056588633154,
          0.023536264827122975,
          -0.015293892939083994,
          -0.015179431336726758,
          -0.030383987110761897,
          -0.0632415382369619,
          0.05350183195905516,
          0.020675962970027238,
          -0.1451719912839144,
          -0.019326295685096157,
          0.03491427333614503,
          -0.08296748492039768,
          0.026430698031916,
          -0.14027561335435346,
          -0.06549236557924598,
          0.025140426252032264,
          0.058172777366407274,
          0.07745853226825303,
          -0.06119671384353311,
          0.0059732045786297025,
          -0.014596256568649671,
          0.09028820284801285,
          0.07328959845072602,
          0.07811934080607566,
          -0.019634564725755026,
          -0.03687347517081243,
          0.007020817739300826,
          -0.08214105934543804,
          -0.017407289216934976,
          -0.08933881309649788,
          0.05098276660447105,
          0.054191541920853625,
          -0.029988948850255583,
          -0.010669948565357393,
          -0.007003883472737806,
          -0.10536601229775339,
          -0.0191738285137837,
          0.017272348587405548,
          -0.01961502893836703,
          -0.016137647343775235,
          0.051998140669915704,
          0.015984963060090774,
          0.02627121986625958,
          0.015448652551631852,
          0.009035951771346966,
          0.05872953008980475,
          -0.03775250623958288,
          -0.028623671745546534,
          -0.0064841115653585055,
          0.03296145692286885
         ],
         "y": [
          0.9222389195207894,
          0.3043121677738011,
          0.19371124467967069,
          0.15926466679822973,
          0.13630165521286247,
          0.10747879654967962,
          0.18522224865677966,
          0.11590626504663176,
          0.251624547618596,
          0.1066459958848349,
          0.15556886646102264,
          0.16605025009277555,
          0.05281121093745802,
          0.05218959598800305,
          0.08877690492522888,
          0.057012202576166314,
          0.16249478130521994,
          0.11844303793271505,
          0.06211589993756787,
          0.05361508333051493,
          0.10892900911540085,
          0.06592568512326007,
          0.0183080661002617,
          0.07941720856791132,
          0.04349849058996594,
          0.11798043055132662,
          0.057147541226623924,
          0.0882756711021956,
          0.10809717475232006,
          0.08600387478555312,
          0.08610406099387267,
          0.07571592656786885,
          0.03713655773283659,
          0.05152905875452454,
          0.055999279864688965,
          0.07382202653134912,
          0.07696435106794983,
          0.041527878093800555,
          0.08099140595031046,
          0.06385316883017755,
          0.061272592782954285,
          0.03616943656711948,
          0.08870730631611391,
          0.05060178505555925,
          0.05954184890036274,
          0.04037035299609244,
          0.059935595919404186,
          0.09547534426696362,
          0.05244656522890757,
          0.06117712165276056,
          0.09425157418146803,
          0.027948043469158777,
          0.051257613698990914,
          0.05020655447090763,
          0.05281255926669167,
          0.027006017576224294,
          0.07477323873300261,
          0.026657739153036906,
          0.10215204353096563,
          0.02019478818101892,
          0.05628182288437354,
          0.045895472364042844,
          0.033886635705847684,
          0.04829936836964893,
          0.05172052300649198,
          0.04671044303313083,
          0.059598793987253554,
          0.057726002636326844,
          0.06032086712580867,
          0.04451034531740772,
          0.027244022568856528,
          0.05587451602030739,
          0.018291466213338003,
          0.03415414512320568,
          0.04275039461563595,
          0.03272810113676239,
          0.039847189599991145,
          0.04005157008147157,
          0.0601693592406211,
          0.04812321505755539,
          0.048030434865444775,
          0.01709761083212631,
          0.029328688369625676,
          0.02986353274573556,
          0.04151709693958338,
          0.042638384682029865,
          0.08931688052796141,
          0.028170317960529205,
          0.03245082993086854,
          0.03768357322382208,
          0.04036965852146871,
          0.038764353610500075,
          0.04372937554645253,
          0.06977060517869285,
          0.05217874060279068,
          0.05567505661036707,
          0.03030212424107612,
          0.043435251556482875,
          0.050010787410087444,
          0.051678391487105534
         ]
        },
        {
         "mode": "lines",
         "name": "Best Fit Line",
         "type": "scatter",
         "x": [
          1.0458723671248178,
          0.27211350997186506,
          0.016008653910054793,
          -0.12628118445189596,
          -0.16712978212274135,
          -0.27248920778378116,
          -0.21655407454166242,
          0.18169724296720552,
          -0.1903885360487984,
          -0.015676477208794976,
          0.21127767625826935,
          -0.00594945269964417,
          0.029074531616218386,
          -0.13355442194582345,
          -0.07814560911182664,
          0.05157586167413791,
          -0.12631484709368634,
          0.10694321823066005,
          0.11273478577171324,
          -0.08181313057510842,
          0.07781357249127699,
          -0.10646410871637475,
          -0.08168014094100529,
          -0.08218293490082057,
          0.03731287814757317,
          -0.14725682620196767,
          -0.03137024343611605,
          -0.07242127891866934,
          -0.031871195362004404,
          -0.007432710031958788,
          0.09200484204003914,
          0.006414583398526456,
          -0.06360607933466941,
          0.03289411945771449,
          0.13869347521774436,
          -0.04119895217734694,
          0.03028892053488203,
          0.06017047091951254,
          0.025429703919548637,
          -0.0868758012612009,
          -0.1071983327099483,
          0.0840131978139846,
          0.14590265458262291,
          -0.03499586286234084,
          0.0127986183743301,
          0.04851509601334514,
          -0.061241458790809014,
          0.037921251216794356,
          0.0588157546770039,
          -0.00933509931096321,
          0.0029654056588633154,
          0.023536264827122975,
          -0.015293892939083994,
          -0.015179431336726758,
          -0.030383987110761897,
          -0.0632415382369619,
          0.05350183195905516,
          0.020675962970027238,
          -0.1451719912839144,
          -0.019326295685096157,
          0.03491427333614503,
          -0.08296748492039768,
          0.026430698031916,
          -0.14027561335435346,
          -0.06549236557924598,
          0.025140426252032264,
          0.058172777366407274,
          0.07745853226825303,
          -0.06119671384353311,
          0.0059732045786297025,
          -0.014596256568649671,
          0.09028820284801285,
          0.07328959845072602,
          0.07811934080607566,
          -0.019634564725755026,
          -0.03687347517081243,
          0.007020817739300826,
          -0.08214105934543804,
          -0.017407289216934976,
          -0.08933881309649788,
          0.05098276660447105,
          0.054191541920853625,
          -0.029988948850255583,
          -0.010669948565357393,
          -0.007003883472737806,
          -0.10536601229775339,
          -0.0191738285137837,
          0.017272348587405548,
          -0.01961502893836703,
          -0.016137647343775235,
          0.051998140669915704,
          0.015984963060090774,
          0.02627121986625958,
          0.015448652551631852,
          0.009035951771346966,
          0.05872953008980475,
          -0.03775250623958288,
          -0.028623671745546534,
          -0.0064841115653585055,
          0.03296145692286885
         ],
         "y": [
          0.5800625824200999,
          0.20751010930516384,
          0.08419973085774597,
          0.015689457029125463,
          -0.003978487246880685,
          -0.054707359986919016,
          -0.02777549092884954,
          0.16397612766345493,
          -0.015177204026172314,
          0.06894384867924308,
          0.17821863161222562,
          0.0736272548896322,
          0.09049074130350598,
          0.01218750989034223,
          0.03886596411782977,
          0.10132477064476401,
          0.015673249007291973,
          0.12798326433990154,
          0.13077181117291703,
          0.03710011138643074,
          0.11395780736342145,
          0.025231060988710252,
          0.037164143761150265,
          0.03692205653789615,
          0.09445737295658621,
          0.0055900221251869164,
          0.0613875520805983,
          0.04162213724679944,
          0.06114635176712065,
          0.07291309028613682,
          0.12079067592209039,
          0.0795803398636828,
          0.04586651438789592,
          0.0923298115557872,
          0.1432705035788765,
          0.05665518654420208,
          0.09107545008039315,
          0.10546293707765289,
          0.08873581525656096,
          0.03466251669238072,
          0.024877543917987945,
          0.11694282747014981,
          0.14674160775647138,
          0.05964187450763503,
          0.08265415025913234,
          0.09985106109557793,
          0.04700504123440598,
          0.09475029482677821,
          0.10481066294618431,
          0.07199712037617256,
          0.07791961613141737,
          0.08782415471780963,
          0.06912805686573176,
          0.06918316829048725,
          0.06186241867467892,
          0.04604203507660595,
          0.10225209443066798,
          0.08644696527323617,
          0.006593836682625434,
          0.06718651965199318,
          0.09330248323059204,
          0.0365443082932411,
          0.08921777785858935,
          0.008951364082925975,
          0.04495829783060128,
          0.08859653270172639,
          0.10450107968906858,
          0.11378686119340986,
          0.047026585208491616,
          0.0793678230447631,
          0.06946395758303864,
          0.11996414169825145,
          0.1117795864596679,
          0.114105029900295,
          0.0670380930557474,
          0.058737834311383214,
          0.07987223197044811,
          0.036942218945830614,
          0.06811049047187832,
          0.033476616017941184,
          0.10103920488618945,
          0.10258417870941276,
          0.06205262325788482,
          0.07135441188067307,
          0.07311956339296882,
          0.02575977679298721,
          0.06725993014832055,
          0.08480817956622537,
          0.06704749922388152,
          0.06872180265970435,
          0.10152809120486768,
          0.0841883240936583,
          0.08914099168099167,
          0.08393009919007649,
          0.08084248666977295,
          0.10476914719110456,
          0.05831459495769067,
          0.06270998227503144,
          0.07336982522552778,
          0.09236223346468639
         ]
        }
       ],
       "layout": {
        "height": 470,
        "template": {
         "data": {
          "bar": [
           {
            "error_x": {
             "color": "#2a3f5f"
            },
            "error_y": {
             "color": "#2a3f5f"
            },
            "marker": {
             "line": {
              "color": "#E5ECF6",
              "width": 0.5
             }
            },
            "type": "bar"
           }
          ],
          "barpolar": [
           {
            "marker": {
             "line": {
              "color": "#E5ECF6",
              "width": 0.5
             }
            },
            "type": "barpolar"
           }
          ],
          "carpet": [
           {
            "aaxis": {
             "endlinecolor": "#2a3f5f",
             "gridcolor": "white",
             "linecolor": "white",
             "minorgridcolor": "white",
             "startlinecolor": "#2a3f5f"
            },
            "baxis": {
             "endlinecolor": "#2a3f5f",
             "gridcolor": "white",
             "linecolor": "white",
             "minorgridcolor": "white",
             "startlinecolor": "#2a3f5f"
            },
            "type": "carpet"
           }
          ],
          "choropleth": [
           {
            "colorbar": {
             "outlinewidth": 0,
             "ticks": ""
            },
            "type": "choropleth"
           }
          ],
          "contour": [
           {
            "colorbar": {
             "outlinewidth": 0,
             "ticks": ""
            },
            "colorscale": [
             [
              0,
              "#0d0887"
             ],
             [
              0.1111111111111111,
              "#46039f"
             ],
             [
              0.2222222222222222,
              "#7201a8"
             ],
             [
              0.3333333333333333,
              "#9c179e"
             ],
             [
              0.4444444444444444,
              "#bd3786"
             ],
             [
              0.5555555555555556,
              "#d8576b"
             ],
             [
              0.6666666666666666,
              "#ed7953"
             ],
             [
              0.7777777777777778,
              "#fb9f3a"
             ],
             [
              0.8888888888888888,
              "#fdca26"
             ],
             [
              1,
              "#f0f921"
             ]
            ],
            "type": "contour"
           }
          ],
          "contourcarpet": [
           {
            "colorbar": {
             "outlinewidth": 0,
             "ticks": ""
            },
            "type": "contourcarpet"
           }
          ],
          "heatmap": [
           {
            "colorbar": {
             "outlinewidth": 0,
             "ticks": ""
            },
            "colorscale": [
             [
              0,
              "#0d0887"
             ],
             [
              0.1111111111111111,
              "#46039f"
             ],
             [
              0.2222222222222222,
              "#7201a8"
             ],
             [
              0.3333333333333333,
              "#9c179e"
             ],
             [
              0.4444444444444444,
              "#bd3786"
             ],
             [
              0.5555555555555556,
              "#d8576b"
             ],
             [
              0.6666666666666666,
              "#ed7953"
             ],
             [
              0.7777777777777778,
              "#fb9f3a"
             ],
             [
              0.8888888888888888,
              "#fdca26"
             ],
             [
              1,
              "#f0f921"
             ]
            ],
            "type": "heatmap"
           }
          ],
          "heatmapgl": [
           {
            "colorbar": {
             "outlinewidth": 0,
             "ticks": ""
            },
            "colorscale": [
             [
              0,
              "#0d0887"
             ],
             [
              0.1111111111111111,
              "#46039f"
             ],
             [
              0.2222222222222222,
              "#7201a8"
             ],
             [
              0.3333333333333333,
              "#9c179e"
             ],
             [
              0.4444444444444444,
              "#bd3786"
             ],
             [
              0.5555555555555556,
              "#d8576b"
             ],
             [
              0.6666666666666666,
              "#ed7953"
             ],
             [
              0.7777777777777778,
              "#fb9f3a"
             ],
             [
              0.8888888888888888,
              "#fdca26"
             ],
             [
              1,
              "#f0f921"
             ]
            ],
            "type": "heatmapgl"
           }
          ],
          "histogram": [
           {
            "marker": {
             "colorbar": {
              "outlinewidth": 0,
              "ticks": ""
             }
            },
            "type": "histogram"
           }
          ],
          "histogram2d": [
           {
            "colorbar": {
             "outlinewidth": 0,
             "ticks": ""
            },
            "colorscale": [
             [
              0,
              "#0d0887"
             ],
             [
              0.1111111111111111,
              "#46039f"
             ],
             [
              0.2222222222222222,
              "#7201a8"
             ],
             [
              0.3333333333333333,
              "#9c179e"
             ],
             [
              0.4444444444444444,
              "#bd3786"
             ],
             [
              0.5555555555555556,
              "#d8576b"
             ],
             [
              0.6666666666666666,
              "#ed7953"
             ],
             [
              0.7777777777777778,
              "#fb9f3a"
             ],
             [
              0.8888888888888888,
              "#fdca26"
             ],
             [
              1,
              "#f0f921"
             ]
            ],
            "type": "histogram2d"
           }
          ],
          "histogram2dcontour": [
           {
            "colorbar": {
             "outlinewidth": 0,
             "ticks": ""
            },
            "colorscale": [
             [
              0,
              "#0d0887"
             ],
             [
              0.1111111111111111,
              "#46039f"
             ],
             [
              0.2222222222222222,
              "#7201a8"
             ],
             [
              0.3333333333333333,
              "#9c179e"
             ],
             [
              0.4444444444444444,
              "#bd3786"
             ],
             [
              0.5555555555555556,
              "#d8576b"
             ],
             [
              0.6666666666666666,
              "#ed7953"
             ],
             [
              0.7777777777777778,
              "#fb9f3a"
             ],
             [
              0.8888888888888888,
              "#fdca26"
             ],
             [
              1,
              "#f0f921"
             ]
            ],
            "type": "histogram2dcontour"
           }
          ],
          "mesh3d": [
           {
            "colorbar": {
             "outlinewidth": 0,
             "ticks": ""
            },
            "type": "mesh3d"
           }
          ],
          "parcoords": [
           {
            "line": {
             "colorbar": {
              "outlinewidth": 0,
              "ticks": ""
             }
            },
            "type": "parcoords"
           }
          ],
          "pie": [
           {
            "automargin": true,
            "type": "pie"
           }
          ],
          "scatter": [
           {
            "marker": {
             "colorbar": {
              "outlinewidth": 0,
              "ticks": ""
             }
            },
            "type": "scatter"
           }
          ],
          "scatter3d": [
           {
            "line": {
             "colorbar": {
              "outlinewidth": 0,
              "ticks": ""
             }
            },
            "marker": {
             "colorbar": {
              "outlinewidth": 0,
              "ticks": ""
             }
            },
            "type": "scatter3d"
           }
          ],
          "scattercarpet": [
           {
            "marker": {
             "colorbar": {
              "outlinewidth": 0,
              "ticks": ""
             }
            },
            "type": "scattercarpet"
           }
          ],
          "scattergeo": [
           {
            "marker": {
             "colorbar": {
              "outlinewidth": 0,
              "ticks": ""
             }
            },
            "type": "scattergeo"
           }
          ],
          "scattergl": [
           {
            "marker": {
             "colorbar": {
              "outlinewidth": 0,
              "ticks": ""
             }
            },
            "type": "scattergl"
           }
          ],
          "scattermapbox": [
           {
            "marker": {
             "colorbar": {
              "outlinewidth": 0,
              "ticks": ""
             }
            },
            "type": "scattermapbox"
           }
          ],
          "scatterpolar": [
           {
            "marker": {
             "colorbar": {
              "outlinewidth": 0,
              "ticks": ""
             }
            },
            "type": "scatterpolar"
           }
          ],
          "scatterpolargl": [
           {
            "marker": {
             "colorbar": {
              "outlinewidth": 0,
              "ticks": ""
             }
            },
            "type": "scatterpolargl"
           }
          ],
          "scatterternary": [
           {
            "marker": {
             "colorbar": {
              "outlinewidth": 0,
              "ticks": ""
             }
            },
            "type": "scatterternary"
           }
          ],
          "surface": [
           {
            "colorbar": {
             "outlinewidth": 0,
             "ticks": ""
            },
            "colorscale": [
             [
              0,
              "#0d0887"
             ],
             [
              0.1111111111111111,
              "#46039f"
             ],
             [
              0.2222222222222222,
              "#7201a8"
             ],
             [
              0.3333333333333333,
              "#9c179e"
             ],
             [
              0.4444444444444444,
              "#bd3786"
             ],
             [
              0.5555555555555556,
              "#d8576b"
             ],
             [
              0.6666666666666666,
              "#ed7953"
             ],
             [
              0.7777777777777778,
              "#fb9f3a"
             ],
             [
              0.8888888888888888,
              "#fdca26"
             ],
             [
              1,
              "#f0f921"
             ]
            ],
            "type": "surface"
           }
          ],
          "table": [
           {
            "cells": {
             "fill": {
              "color": "#EBF0F8"
             },
             "line": {
              "color": "white"
             }
            },
            "header": {
             "fill": {
              "color": "#C8D4E3"
             },
             "line": {
              "color": "white"
             }
            },
            "type": "table"
           }
          ]
         },
         "layout": {
          "annotationdefaults": {
           "arrowcolor": "#2a3f5f",
           "arrowhead": 0,
           "arrowwidth": 1
          },
          "coloraxis": {
           "colorbar": {
            "outlinewidth": 0,
            "ticks": ""
           }
          },
          "colorscale": {
           "diverging": [
            [
             0,
             "#8e0152"
            ],
            [
             0.1,
             "#c51b7d"
            ],
            [
             0.2,
             "#de77ae"
            ],
            [
             0.3,
             "#f1b6da"
            ],
            [
             0.4,
             "#fde0ef"
            ],
            [
             0.5,
             "#f7f7f7"
            ],
            [
             0.6,
             "#e6f5d0"
            ],
            [
             0.7,
             "#b8e186"
            ],
            [
             0.8,
             "#7fbc41"
            ],
            [
             0.9,
             "#4d9221"
            ],
            [
             1,
             "#276419"
            ]
           ],
           "sequential": [
            [
             0,
             "#0d0887"
            ],
            [
             0.1111111111111111,
             "#46039f"
            ],
            [
             0.2222222222222222,
             "#7201a8"
            ],
            [
             0.3333333333333333,
             "#9c179e"
            ],
            [
             0.4444444444444444,
             "#bd3786"
            ],
            [
             0.5555555555555556,
             "#d8576b"
            ],
            [
             0.6666666666666666,
             "#ed7953"
            ],
            [
             0.7777777777777778,
             "#fb9f3a"
            ],
            [
             0.8888888888888888,
             "#fdca26"
            ],
            [
             1,
             "#f0f921"
            ]
           ],
           "sequentialminus": [
            [
             0,
             "#0d0887"
            ],
            [
             0.1111111111111111,
             "#46039f"
            ],
            [
             0.2222222222222222,
             "#7201a8"
            ],
            [
             0.3333333333333333,
             "#9c179e"
            ],
            [
             0.4444444444444444,
             "#bd3786"
            ],
            [
             0.5555555555555556,
             "#d8576b"
            ],
            [
             0.6666666666666666,
             "#ed7953"
            ],
            [
             0.7777777777777778,
             "#fb9f3a"
            ],
            [
             0.8888888888888888,
             "#fdca26"
            ],
            [
             1,
             "#f0f921"
            ]
           ]
          },
          "colorway": [
           "#636efa",
           "#EF553B",
           "#00cc96",
           "#ab63fa",
           "#FFA15A",
           "#19d3f3",
           "#FF6692",
           "#B6E880",
           "#FF97FF",
           "#FECB52"
          ],
          "font": {
           "color": "#2a3f5f"
          },
          "geo": {
           "bgcolor": "white",
           "lakecolor": "white",
           "landcolor": "#E5ECF6",
           "showlakes": true,
           "showland": true,
           "subunitcolor": "white"
          },
          "hoverlabel": {
           "align": "left"
          },
          "hovermode": "closest",
          "mapbox": {
           "style": "light"
          },
          "paper_bgcolor": "white",
          "plot_bgcolor": "#E5ECF6",
          "polar": {
           "angularaxis": {
            "gridcolor": "white",
            "linecolor": "white",
            "ticks": ""
           },
           "bgcolor": "#E5ECF6",
           "radialaxis": {
            "gridcolor": "white",
            "linecolor": "white",
            "ticks": ""
           }
          },
          "scene": {
           "xaxis": {
            "backgroundcolor": "#E5ECF6",
            "gridcolor": "white",
            "gridwidth": 2,
            "linecolor": "white",
            "showbackground": true,
            "ticks": "",
            "zerolinecolor": "white"
           },
           "yaxis": {
            "backgroundcolor": "#E5ECF6",
            "gridcolor": "white",
            "gridwidth": 2,
            "linecolor": "white",
            "showbackground": true,
            "ticks": "",
            "zerolinecolor": "white"
           },
           "zaxis": {
            "backgroundcolor": "#E5ECF6",
            "gridcolor": "white",
            "gridwidth": 2,
            "linecolor": "white",
            "showbackground": true,
            "ticks": "",
            "zerolinecolor": "white"
           }
          },
          "shapedefaults": {
           "line": {
            "color": "#2a3f5f"
           }
          },
          "ternary": {
           "aaxis": {
            "gridcolor": "white",
            "linecolor": "white",
            "ticks": ""
           },
           "baxis": {
            "gridcolor": "white",
            "linecolor": "white",
            "ticks": ""
           },
           "bgcolor": "#E5ECF6",
           "caxis": {
            "gridcolor": "white",
            "linecolor": "white",
            "ticks": ""
           }
          },
          "title": {
           "x": 0.05
          },
          "xaxis": {
           "automargin": true,
           "gridcolor": "white",
           "linecolor": "white",
           "ticks": "",
           "title": {
            "standoff": 15
           },
           "zerolinecolor": "white",
           "zerolinewidth": 2
          },
          "yaxis": {
           "automargin": true,
           "gridcolor": "white",
           "linecolor": "white",
           "ticks": "",
           "title": {
            "standoff": 15
           },
           "zerolinecolor": "white",
           "zerolinewidth": 2
          }
         }
        },
        "width": 900,
        "xaxis": {
         "title": {
          "text": "Standard Deviation"
         }
        },
        "yaxis": {
         "title": {
          "text": "Mean"
         }
        }
       }
      },
      "text/html": [
       "<div>\n",
       "        \n",
       "        \n",
       "            <div id=\"d4a39351-1178-4323-ad47-1fb28175adf3\" class=\"plotly-graph-div\" style=\"height:470px; width:900px;\"></div>\n",
       "            <script type=\"text/javascript\">\n",
       "                require([\"plotly\"], function(Plotly) {\n",
       "                    window.PLOTLYENV=window.PLOTLYENV || {};\n",
       "                    \n",
       "                if (document.getElementById(\"d4a39351-1178-4323-ad47-1fb28175adf3\")) {\n",
       "                    Plotly.newPlot(\n",
       "                        'd4a39351-1178-4323-ad47-1fb28175adf3',\n",
       "                        [{\"mode\": \"markers\", \"name\": \"Risk-Return Relationship\", \"type\": \"scatter\", \"x\": [1.0458723671248178, 0.27211350997186506, 0.016008653910054793, -0.12628118445189596, -0.16712978212274135, -0.27248920778378116, -0.21655407454166242, 0.18169724296720552, -0.1903885360487984, -0.015676477208794976, 0.21127767625826935, -0.00594945269964417, 0.029074531616218386, -0.13355442194582345, -0.07814560911182664, 0.05157586167413791, -0.12631484709368634, 0.10694321823066005, 0.11273478577171324, -0.08181313057510842, 0.07781357249127699, -0.10646410871637475, -0.08168014094100529, -0.08218293490082057, 0.03731287814757317, -0.14725682620196767, -0.03137024343611605, -0.07242127891866934, -0.031871195362004404, -0.007432710031958788, 0.09200484204003914, 0.006414583398526456, -0.06360607933466941, 0.03289411945771449, 0.13869347521774436, -0.04119895217734694, 0.03028892053488203, 0.06017047091951254, 0.025429703919548637, -0.0868758012612009, -0.1071983327099483, 0.0840131978139846, 0.14590265458262291, -0.03499586286234084, 0.0127986183743301, 0.04851509601334514, -0.061241458790809014, 0.037921251216794356, 0.0588157546770039, -0.00933509931096321, 0.0029654056588633154, 0.023536264827122975, -0.015293892939083994, -0.015179431336726758, -0.030383987110761897, -0.0632415382369619, 0.05350183195905516, 0.020675962970027238, -0.1451719912839144, -0.019326295685096157, 0.03491427333614503, -0.08296748492039768, 0.026430698031916, -0.14027561335435346, -0.06549236557924598, 0.025140426252032264, 0.058172777366407274, 0.07745853226825303, -0.06119671384353311, 0.0059732045786297025, -0.014596256568649671, 0.09028820284801285, 0.07328959845072602, 0.07811934080607566, -0.019634564725755026, -0.03687347517081243, 0.007020817739300826, -0.08214105934543804, -0.017407289216934976, -0.08933881309649788, 0.05098276660447105, 0.054191541920853625, -0.029988948850255583, -0.010669948565357393, -0.007003883472737806, -0.10536601229775339, -0.0191738285137837, 0.017272348587405548, -0.01961502893836703, -0.016137647343775235, 0.051998140669915704, 0.015984963060090774, 0.02627121986625958, 0.015448652551631852, 0.009035951771346966, 0.05872953008980475, -0.03775250623958288, -0.028623671745546534, -0.0064841115653585055, 0.03296145692286885], \"y\": [0.9222389195207894, 0.3043121677738011, 0.19371124467967069, 0.15926466679822973, 0.13630165521286247, 0.10747879654967962, 0.18522224865677966, 0.11590626504663176, 0.251624547618596, 0.1066459958848349, 0.15556886646102264, 0.16605025009277555, 0.05281121093745802, 0.05218959598800305, 0.08877690492522888, 0.057012202576166314, 0.16249478130521994, 0.11844303793271505, 0.06211589993756787, 0.05361508333051493, 0.10892900911540085, 0.06592568512326007, 0.0183080661002617, 0.07941720856791132, 0.04349849058996594, 0.11798043055132662, 0.057147541226623924, 0.0882756711021956, 0.10809717475232006, 0.08600387478555312, 0.08610406099387267, 0.07571592656786885, 0.03713655773283659, 0.05152905875452454, 0.055999279864688965, 0.07382202653134912, 0.07696435106794983, 0.041527878093800555, 0.08099140595031046, 0.06385316883017755, 0.061272592782954285, 0.03616943656711948, 0.08870730631611391, 0.05060178505555925, 0.05954184890036274, 0.04037035299609244, 0.059935595919404186, 0.09547534426696362, 0.05244656522890757, 0.06117712165276056, 0.09425157418146803, 0.027948043469158777, 0.051257613698990914, 0.05020655447090763, 0.05281255926669167, 0.027006017576224294, 0.07477323873300261, 0.026657739153036906, 0.10215204353096563, 0.02019478818101892, 0.05628182288437354, 0.045895472364042844, 0.033886635705847684, 0.04829936836964893, 0.05172052300649198, 0.04671044303313083, 0.059598793987253554, 0.057726002636326844, 0.06032086712580867, 0.04451034531740772, 0.027244022568856528, 0.05587451602030739, 0.018291466213338003, 0.03415414512320568, 0.04275039461563595, 0.03272810113676239, 0.039847189599991145, 0.04005157008147157, 0.0601693592406211, 0.04812321505755539, 0.048030434865444775, 0.01709761083212631, 0.029328688369625676, 0.02986353274573556, 0.04151709693958338, 0.042638384682029865, 0.08931688052796141, 0.028170317960529205, 0.03245082993086854, 0.03768357322382208, 0.04036965852146871, 0.038764353610500075, 0.04372937554645253, 0.06977060517869285, 0.05217874060279068, 0.05567505661036707, 0.03030212424107612, 0.043435251556482875, 0.050010787410087444, 0.051678391487105534]}, {\"mode\": \"lines\", \"name\": \"Best Fit Line\", \"type\": \"scatter\", \"x\": [1.0458723671248178, 0.27211350997186506, 0.016008653910054793, -0.12628118445189596, -0.16712978212274135, -0.27248920778378116, -0.21655407454166242, 0.18169724296720552, -0.1903885360487984, -0.015676477208794976, 0.21127767625826935, -0.00594945269964417, 0.029074531616218386, -0.13355442194582345, -0.07814560911182664, 0.05157586167413791, -0.12631484709368634, 0.10694321823066005, 0.11273478577171324, -0.08181313057510842, 0.07781357249127699, -0.10646410871637475, -0.08168014094100529, -0.08218293490082057, 0.03731287814757317, -0.14725682620196767, -0.03137024343611605, -0.07242127891866934, -0.031871195362004404, -0.007432710031958788, 0.09200484204003914, 0.006414583398526456, -0.06360607933466941, 0.03289411945771449, 0.13869347521774436, -0.04119895217734694, 0.03028892053488203, 0.06017047091951254, 0.025429703919548637, -0.0868758012612009, -0.1071983327099483, 0.0840131978139846, 0.14590265458262291, -0.03499586286234084, 0.0127986183743301, 0.04851509601334514, -0.061241458790809014, 0.037921251216794356, 0.0588157546770039, -0.00933509931096321, 0.0029654056588633154, 0.023536264827122975, -0.015293892939083994, -0.015179431336726758, -0.030383987110761897, -0.0632415382369619, 0.05350183195905516, 0.020675962970027238, -0.1451719912839144, -0.019326295685096157, 0.03491427333614503, -0.08296748492039768, 0.026430698031916, -0.14027561335435346, -0.06549236557924598, 0.025140426252032264, 0.058172777366407274, 0.07745853226825303, -0.06119671384353311, 0.0059732045786297025, -0.014596256568649671, 0.09028820284801285, 0.07328959845072602, 0.07811934080607566, -0.019634564725755026, -0.03687347517081243, 0.007020817739300826, -0.08214105934543804, -0.017407289216934976, -0.08933881309649788, 0.05098276660447105, 0.054191541920853625, -0.029988948850255583, -0.010669948565357393, -0.007003883472737806, -0.10536601229775339, -0.0191738285137837, 0.017272348587405548, -0.01961502893836703, -0.016137647343775235, 0.051998140669915704, 0.015984963060090774, 0.02627121986625958, 0.015448652551631852, 0.009035951771346966, 0.05872953008980475, -0.03775250623958288, -0.028623671745546534, -0.0064841115653585055, 0.03296145692286885], \"y\": [0.5800625824200999, 0.20751010930516384, 0.08419973085774597, 0.015689457029125463, -0.003978487246880685, -0.054707359986919016, -0.02777549092884954, 0.16397612766345493, -0.015177204026172314, 0.06894384867924308, 0.17821863161222562, 0.0736272548896322, 0.09049074130350598, 0.01218750989034223, 0.03886596411782977, 0.10132477064476401, 0.015673249007291973, 0.12798326433990154, 0.13077181117291703, 0.03710011138643074, 0.11395780736342145, 0.025231060988710252, 0.037164143761150265, 0.03692205653789615, 0.09445737295658621, 0.0055900221251869164, 0.0613875520805983, 0.04162213724679944, 0.06114635176712065, 0.07291309028613682, 0.12079067592209039, 0.0795803398636828, 0.04586651438789592, 0.0923298115557872, 0.1432705035788765, 0.05665518654420208, 0.09107545008039315, 0.10546293707765289, 0.08873581525656096, 0.03466251669238072, 0.024877543917987945, 0.11694282747014981, 0.14674160775647138, 0.05964187450763503, 0.08265415025913234, 0.09985106109557793, 0.04700504123440598, 0.09475029482677821, 0.10481066294618431, 0.07199712037617256, 0.07791961613141737, 0.08782415471780963, 0.06912805686573176, 0.06918316829048725, 0.06186241867467892, 0.04604203507660595, 0.10225209443066798, 0.08644696527323617, 0.006593836682625434, 0.06718651965199318, 0.09330248323059204, 0.0365443082932411, 0.08921777785858935, 0.008951364082925975, 0.04495829783060128, 0.08859653270172639, 0.10450107968906858, 0.11378686119340986, 0.047026585208491616, 0.0793678230447631, 0.06946395758303864, 0.11996414169825145, 0.1117795864596679, 0.114105029900295, 0.0670380930557474, 0.058737834311383214, 0.07987223197044811, 0.036942218945830614, 0.06811049047187832, 0.033476616017941184, 0.10103920488618945, 0.10258417870941276, 0.06205262325788482, 0.07135441188067307, 0.07311956339296882, 0.02575977679298721, 0.06725993014832055, 0.08480817956622537, 0.06704749922388152, 0.06872180265970435, 0.10152809120486768, 0.0841883240936583, 0.08914099168099167, 0.08393009919007649, 0.08084248666977295, 0.10476914719110456, 0.05831459495769067, 0.06270998227503144, 0.07336982522552778, 0.09236223346468639]}],\n",
       "                        {\"height\": 470, \"template\": {\"data\": {\"bar\": [{\"error_x\": {\"color\": \"#2a3f5f\"}, \"error_y\": {\"color\": \"#2a3f5f\"}, \"marker\": {\"line\": {\"color\": \"#E5ECF6\", \"width\": 0.5}}, \"type\": \"bar\"}], \"barpolar\": [{\"marker\": {\"line\": {\"color\": \"#E5ECF6\", \"width\": 0.5}}, \"type\": \"barpolar\"}], \"carpet\": [{\"aaxis\": {\"endlinecolor\": \"#2a3f5f\", \"gridcolor\": \"white\", \"linecolor\": \"white\", \"minorgridcolor\": \"white\", \"startlinecolor\": \"#2a3f5f\"}, \"baxis\": {\"endlinecolor\": \"#2a3f5f\", \"gridcolor\": \"white\", \"linecolor\": \"white\", \"minorgridcolor\": \"white\", \"startlinecolor\": \"#2a3f5f\"}, \"type\": \"carpet\"}], \"choropleth\": [{\"colorbar\": {\"outlinewidth\": 0, \"ticks\": \"\"}, \"type\": \"choropleth\"}], \"contour\": [{\"colorbar\": {\"outlinewidth\": 0, \"ticks\": \"\"}, \"colorscale\": [[0.0, \"#0d0887\"], [0.1111111111111111, \"#46039f\"], [0.2222222222222222, \"#7201a8\"], [0.3333333333333333, \"#9c179e\"], [0.4444444444444444, \"#bd3786\"], [0.5555555555555556, \"#d8576b\"], [0.6666666666666666, \"#ed7953\"], [0.7777777777777778, \"#fb9f3a\"], [0.8888888888888888, \"#fdca26\"], [1.0, \"#f0f921\"]], \"type\": \"contour\"}], \"contourcarpet\": [{\"colorbar\": {\"outlinewidth\": 0, \"ticks\": \"\"}, \"type\": \"contourcarpet\"}], \"heatmap\": [{\"colorbar\": {\"outlinewidth\": 0, \"ticks\": \"\"}, \"colorscale\": [[0.0, \"#0d0887\"], [0.1111111111111111, \"#46039f\"], [0.2222222222222222, \"#7201a8\"], [0.3333333333333333, \"#9c179e\"], [0.4444444444444444, \"#bd3786\"], [0.5555555555555556, \"#d8576b\"], [0.6666666666666666, \"#ed7953\"], [0.7777777777777778, \"#fb9f3a\"], [0.8888888888888888, \"#fdca26\"], [1.0, \"#f0f921\"]], \"type\": \"heatmap\"}], \"heatmapgl\": [{\"colorbar\": {\"outlinewidth\": 0, \"ticks\": \"\"}, \"colorscale\": [[0.0, \"#0d0887\"], [0.1111111111111111, \"#46039f\"], [0.2222222222222222, \"#7201a8\"], [0.3333333333333333, \"#9c179e\"], [0.4444444444444444, \"#bd3786\"], [0.5555555555555556, \"#d8576b\"], [0.6666666666666666, \"#ed7953\"], [0.7777777777777778, \"#fb9f3a\"], [0.8888888888888888, \"#fdca26\"], [1.0, \"#f0f921\"]], \"type\": \"heatmapgl\"}], \"histogram\": [{\"marker\": {\"colorbar\": {\"outlinewidth\": 0, \"ticks\": \"\"}}, \"type\": \"histogram\"}], \"histogram2d\": [{\"colorbar\": {\"outlinewidth\": 0, \"ticks\": \"\"}, \"colorscale\": [[0.0, \"#0d0887\"], [0.1111111111111111, \"#46039f\"], [0.2222222222222222, \"#7201a8\"], [0.3333333333333333, \"#9c179e\"], [0.4444444444444444, \"#bd3786\"], [0.5555555555555556, \"#d8576b\"], [0.6666666666666666, \"#ed7953\"], [0.7777777777777778, \"#fb9f3a\"], [0.8888888888888888, \"#fdca26\"], [1.0, \"#f0f921\"]], \"type\": \"histogram2d\"}], \"histogram2dcontour\": [{\"colorbar\": {\"outlinewidth\": 0, \"ticks\": \"\"}, \"colorscale\": [[0.0, \"#0d0887\"], [0.1111111111111111, \"#46039f\"], [0.2222222222222222, \"#7201a8\"], [0.3333333333333333, \"#9c179e\"], [0.4444444444444444, \"#bd3786\"], [0.5555555555555556, \"#d8576b\"], [0.6666666666666666, \"#ed7953\"], [0.7777777777777778, \"#fb9f3a\"], [0.8888888888888888, \"#fdca26\"], [1.0, \"#f0f921\"]], \"type\": \"histogram2dcontour\"}], \"mesh3d\": [{\"colorbar\": {\"outlinewidth\": 0, \"ticks\": \"\"}, \"type\": \"mesh3d\"}], \"parcoords\": [{\"line\": {\"colorbar\": {\"outlinewidth\": 0, \"ticks\": \"\"}}, \"type\": \"parcoords\"}], \"pie\": [{\"automargin\": true, \"type\": \"pie\"}], \"scatter\": [{\"marker\": {\"colorbar\": {\"outlinewidth\": 0, \"ticks\": \"\"}}, \"type\": \"scatter\"}], \"scatter3d\": [{\"line\": {\"colorbar\": {\"outlinewidth\": 0, \"ticks\": \"\"}}, \"marker\": {\"colorbar\": {\"outlinewidth\": 0, \"ticks\": \"\"}}, \"type\": \"scatter3d\"}], \"scattercarpet\": [{\"marker\": {\"colorbar\": {\"outlinewidth\": 0, \"ticks\": \"\"}}, \"type\": \"scattercarpet\"}], \"scattergeo\": [{\"marker\": {\"colorbar\": {\"outlinewidth\": 0, \"ticks\": \"\"}}, \"type\": \"scattergeo\"}], \"scattergl\": [{\"marker\": {\"colorbar\": {\"outlinewidth\": 0, \"ticks\": \"\"}}, \"type\": \"scattergl\"}], \"scattermapbox\": [{\"marker\": {\"colorbar\": {\"outlinewidth\": 0, \"ticks\": \"\"}}, \"type\": \"scattermapbox\"}], \"scatterpolar\": [{\"marker\": {\"colorbar\": {\"outlinewidth\": 0, \"ticks\": \"\"}}, \"type\": \"scatterpolar\"}], \"scatterpolargl\": [{\"marker\": {\"colorbar\": {\"outlinewidth\": 0, \"ticks\": \"\"}}, \"type\": \"scatterpolargl\"}], \"scatterternary\": [{\"marker\": {\"colorbar\": {\"outlinewidth\": 0, \"ticks\": \"\"}}, \"type\": \"scatterternary\"}], \"surface\": [{\"colorbar\": {\"outlinewidth\": 0, \"ticks\": \"\"}, \"colorscale\": [[0.0, \"#0d0887\"], [0.1111111111111111, \"#46039f\"], [0.2222222222222222, \"#7201a8\"], [0.3333333333333333, \"#9c179e\"], [0.4444444444444444, \"#bd3786\"], [0.5555555555555556, \"#d8576b\"], [0.6666666666666666, \"#ed7953\"], [0.7777777777777778, \"#fb9f3a\"], [0.8888888888888888, \"#fdca26\"], [1.0, \"#f0f921\"]], \"type\": \"surface\"}], \"table\": [{\"cells\": {\"fill\": {\"color\": \"#EBF0F8\"}, \"line\": {\"color\": \"white\"}}, \"header\": {\"fill\": {\"color\": \"#C8D4E3\"}, \"line\": {\"color\": \"white\"}}, \"type\": \"table\"}]}, \"layout\": {\"annotationdefaults\": {\"arrowcolor\": \"#2a3f5f\", \"arrowhead\": 0, \"arrowwidth\": 1}, \"coloraxis\": {\"colorbar\": {\"outlinewidth\": 0, \"ticks\": \"\"}}, \"colorscale\": {\"diverging\": [[0, \"#8e0152\"], [0.1, \"#c51b7d\"], [0.2, \"#de77ae\"], [0.3, \"#f1b6da\"], [0.4, \"#fde0ef\"], [0.5, \"#f7f7f7\"], [0.6, \"#e6f5d0\"], [0.7, \"#b8e186\"], [0.8, \"#7fbc41\"], [0.9, \"#4d9221\"], [1, \"#276419\"]], \"sequential\": [[0.0, \"#0d0887\"], [0.1111111111111111, \"#46039f\"], [0.2222222222222222, \"#7201a8\"], [0.3333333333333333, \"#9c179e\"], [0.4444444444444444, \"#bd3786\"], [0.5555555555555556, \"#d8576b\"], [0.6666666666666666, \"#ed7953\"], [0.7777777777777778, \"#fb9f3a\"], [0.8888888888888888, \"#fdca26\"], [1.0, \"#f0f921\"]], \"sequentialminus\": [[0.0, \"#0d0887\"], [0.1111111111111111, \"#46039f\"], [0.2222222222222222, \"#7201a8\"], [0.3333333333333333, \"#9c179e\"], [0.4444444444444444, \"#bd3786\"], [0.5555555555555556, \"#d8576b\"], [0.6666666666666666, \"#ed7953\"], [0.7777777777777778, \"#fb9f3a\"], [0.8888888888888888, \"#fdca26\"], [1.0, \"#f0f921\"]]}, \"colorway\": [\"#636efa\", \"#EF553B\", \"#00cc96\", \"#ab63fa\", \"#FFA15A\", \"#19d3f3\", \"#FF6692\", \"#B6E880\", \"#FF97FF\", \"#FECB52\"], \"font\": {\"color\": \"#2a3f5f\"}, \"geo\": {\"bgcolor\": \"white\", \"lakecolor\": \"white\", \"landcolor\": \"#E5ECF6\", \"showlakes\": true, \"showland\": true, \"subunitcolor\": \"white\"}, \"hoverlabel\": {\"align\": \"left\"}, \"hovermode\": \"closest\", \"mapbox\": {\"style\": \"light\"}, \"paper_bgcolor\": \"white\", \"plot_bgcolor\": \"#E5ECF6\", \"polar\": {\"angularaxis\": {\"gridcolor\": \"white\", \"linecolor\": \"white\", \"ticks\": \"\"}, \"bgcolor\": \"#E5ECF6\", \"radialaxis\": {\"gridcolor\": \"white\", \"linecolor\": \"white\", \"ticks\": \"\"}}, \"scene\": {\"xaxis\": {\"backgroundcolor\": \"#E5ECF6\", \"gridcolor\": \"white\", \"gridwidth\": 2, \"linecolor\": \"white\", \"showbackground\": true, \"ticks\": \"\", \"zerolinecolor\": \"white\"}, \"yaxis\": {\"backgroundcolor\": \"#E5ECF6\", \"gridcolor\": \"white\", \"gridwidth\": 2, \"linecolor\": \"white\", \"showbackground\": true, \"ticks\": \"\", \"zerolinecolor\": \"white\"}, \"zaxis\": {\"backgroundcolor\": \"#E5ECF6\", \"gridcolor\": \"white\", \"gridwidth\": 2, \"linecolor\": \"white\", \"showbackground\": true, \"ticks\": \"\", \"zerolinecolor\": \"white\"}}, \"shapedefaults\": {\"line\": {\"color\": \"#2a3f5f\"}}, \"ternary\": {\"aaxis\": {\"gridcolor\": \"white\", \"linecolor\": \"white\", \"ticks\": \"\"}, \"baxis\": {\"gridcolor\": \"white\", \"linecolor\": \"white\", \"ticks\": \"\"}, \"bgcolor\": \"#E5ECF6\", \"caxis\": {\"gridcolor\": \"white\", \"linecolor\": \"white\", \"ticks\": \"\"}}, \"title\": {\"x\": 0.05}, \"xaxis\": {\"automargin\": true, \"gridcolor\": \"white\", \"linecolor\": \"white\", \"ticks\": \"\", \"title\": {\"standoff\": 15}, \"zerolinecolor\": \"white\", \"zerolinewidth\": 2}, \"yaxis\": {\"automargin\": true, \"gridcolor\": \"white\", \"linecolor\": \"white\", \"ticks\": \"\", \"title\": {\"standoff\": 15}, \"zerolinecolor\": \"white\", \"zerolinewidth\": 2}}}, \"width\": 900, \"xaxis\": {\"title\": {\"text\": \"Standard Deviation\"}}, \"yaxis\": {\"title\": {\"text\": \"Mean\"}}},\n",
       "                        {\"responsive\": true}\n",
       "                    ).then(function(){\n",
       "                            \n",
       "var gd = document.getElementById('d4a39351-1178-4323-ad47-1fb28175adf3');\n",
       "var x = new MutationObserver(function (mutations, observer) {{\n",
       "        var display = window.getComputedStyle(gd).display;\n",
       "        if (!display || display === 'none') {{\n",
       "            console.log([gd, 'removed!']);\n",
       "            Plotly.purge(gd);\n",
       "            observer.disconnect();\n",
       "        }}\n",
       "}});\n",
       "\n",
       "// Listen for the removal of the full notebook cells\n",
       "var notebookContainer = gd.closest('#notebook-container');\n",
       "if (notebookContainer) {{\n",
       "    x.observe(notebookContainer, {childList: true});\n",
       "}}\n",
       "\n",
       "// Listen for the clearing of the current output cell\n",
       "var outputEl = gd.closest('.output');\n",
       "if (outputEl) {{\n",
       "    x.observe(outputEl, {childList: true});\n",
       "}}\n",
       "\n",
       "                        })\n",
       "                };\n",
       "                });\n",
       "            </script>\n",
       "        </div>"
      ]
     },
     "metadata": {},
     "output_type": "display_data"
    }
   ],
   "source": [
    "fig=go.Figure()\n",
    "fig.add_trace(go.Scatter(name='Risk-Return Relationship', x=portfolio[:,0], y=portfolio[:,1], mode='markers'))\n",
    "fig.add_trace(go.Scatter(name='Best Fit Line', x=np.array(portfolio[:,0]), y=best_fit, mode='lines'))\n",
    "fig.update_layout(xaxis_title = 'Standard Deviation', yaxis_title = 'Mean',width=900,height=470)\n",
    "fig.show()"
   ]
  }
 ],
 "metadata": {
  "kernelspec": {
   "display_name": "Python 3",
   "language": "python",
   "name": "python3"
  },
  "language_info": {
   "codemirror_mode": {
    "name": "ipython",
    "version": 3
   },
   "file_extension": ".py",
   "mimetype": "text/x-python",
   "name": "python",
   "nbconvert_exporter": "python",
   "pygments_lexer": "ipython3",
   "version": "3.7.3"
  }
 },
 "nbformat": 4,
 "nbformat_minor": 4
}
